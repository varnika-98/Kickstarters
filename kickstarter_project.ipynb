{
 "cells": [
  {
   "cell_type": "markdown",
   "metadata": {
    "pycharm": {
     "name": "#%% md\n"
    }
   },
   "source": [
    "# Introduction to the dataset\n"
   ]
  },
  {
   "cell_type": "markdown",
   "metadata": {
    "pycharm": {
     "name": "#%% md\n"
    }
   },
   "source": [
    "### Title : Why do Kickstarter campaigns fail?\n",
    "For this project, we used Kickstarter campaigns dataset from Kaggle: https://www.kaggle.com/datasets/thedevastator/most-kickstarter-campaigns-fail-here-s-why\n",
    "\n",
    "This dataset contains data on 20,632 Kickstarter campaigns as of February 1st, 2017. Important attributes are described below: \n",
    "- Project: a finite work with a clear goal that you’d like to bring to life (aka campaign)\n",
    "- Funding goal: amount of money that a creator needs to complete their project\n",
    "- Name: name of project on Kickstarter\n",
    "- Blurb: the short description displayed under the name of your project and on the browse page\n",
    "- Pledged and backers: amount of money that a project has raised and people that have supported it at the point of the API pull\n",
    "- State: successful, failed, cancelled, live or suspended."
   ]
  },
  {
   "cell_type": "markdown",
   "metadata": {
    "pycharm": {
     "name": "#%% md\n"
    }
   },
   "source": [
    "## 0. Importing Libraries"
   ]
  },
  {
   "cell_type": "code",
   "execution_count": 1,
   "metadata": {
    "pycharm": {
     "name": "#%%\n"
    }
   },
   "outputs": [],
   "source": [
    "import pandas as pd\n",
    "import matplotlib.pyplot as plt\n",
    "from bokeh.plotting import figure, show\n",
    "import numpy as np\n",
    "from math import pi\n",
    "import random\n",
    "import seaborn as sns\n",
    "\n"
   ]
  },
  {
   "cell_type": "markdown",
   "metadata": {
    "pycharm": {
     "name": "#%% md\n"
    }
   },
   "source": [
    "## 1. Read CSV file and then load into a data frame"
   ]
  },
  {
   "cell_type": "code",
   "execution_count": 2,
   "metadata": {
    "pycharm": {
     "name": "#%%\n"
    }
   },
   "outputs": [
    {
     "name": "stderr",
     "output_type": "stream",
     "text": [
      "/var/folders/jc/s8m7s_9n3q3fhyv_61mvy6zw0000gp/T/ipykernel_89158/2624710421.py:2: DtypeWarning: Columns (30,31,32,33) have mixed types. Specify dtype option on import or set low_memory=False.\n",
      "  initdf= pd.read_csv('kickstarter_data_full.csv')\n"
     ]
    }
   ],
   "source": [
    "#path= r\"kickstarter_data_full.csv\"\n",
    "initdf= pd.read_csv('kickstarter_data_full.csv')\n",
    "# initdf"
   ]
  },
  {
   "cell_type": "code",
   "execution_count": null,
   "metadata": {
    "pycharm": {
     "name": "#%%\n"
    }
   },
   "outputs": [],
   "source": []
  },
  {
   "cell_type": "markdown",
   "metadata": {
    "pycharm": {
     "name": "#%% md\n"
    }
   },
   "source": [
    "## 2. Inferred Schema"
   ]
  },
  {
   "cell_type": "code",
   "execution_count": 3,
   "metadata": {
    "pycharm": {
     "name": "#%%\n"
    }
   },
   "outputs": [
    {
     "name": "stdout",
     "output_type": "stream",
     "text": [
      "<class 'pandas.core.frame.DataFrame'>\n",
      "RangeIndex: 20632 entries, 0 to 20631\n",
      "Data columns (total 69 columns):\n",
      " #   Column                       Non-Null Count  Dtype  \n",
      "---  ------                       --------------  -----  \n",
      " 0   index                        20632 non-null  int64  \n",
      " 1   Unnamed: 0                   20632 non-null  int64  \n",
      " 2   id                           20632 non-null  int64  \n",
      " 3   photo                        20632 non-null  object \n",
      " 4   name                         20632 non-null  object \n",
      " 5   blurb                        20627 non-null  object \n",
      " 6   goal                         20632 non-null  float64\n",
      " 7   pledged                      20632 non-null  float64\n",
      " 8   state                        20632 non-null  object \n",
      " 9   slug                         20632 non-null  object \n",
      " 10  disable_communication        20632 non-null  bool   \n",
      " 11  country                      20632 non-null  object \n",
      " 12  currency                     20632 non-null  object \n",
      " 13  currency_symbol              20632 non-null  object \n",
      " 14  currency_trailing_code       20632 non-null  bool   \n",
      " 15  deadline                     20632 non-null  object \n",
      " 16  state_changed_at             20632 non-null  object \n",
      " 17  created_at                   20632 non-null  object \n",
      " 18  launched_at                  20632 non-null  object \n",
      " 19  staff_pick                   20632 non-null  bool   \n",
      " 20  backers_count                20632 non-null  int64  \n",
      " 21  static_usd_rate              20632 non-null  float64\n",
      " 22  usd_pledged                  20632 non-null  float64\n",
      " 23  creator                      20632 non-null  object \n",
      " 24  location                     20587 non-null  object \n",
      " 25  category                     18743 non-null  object \n",
      " 26  profile                      20632 non-null  object \n",
      " 27  spotlight                    20632 non-null  bool   \n",
      " 28  urls                         20632 non-null  object \n",
      " 29  source_url                   20632 non-null  object \n",
      " 30  friends                      60 non-null     object \n",
      " 31  is_starred                   60 non-null     object \n",
      " 32  is_backing                   60 non-null     object \n",
      " 33  permissions                  60 non-null     object \n",
      " 34  name_len                     20627 non-null  float64\n",
      " 35  name_len_clean               20627 non-null  float64\n",
      " 36  blurb_len                    20627 non-null  float64\n",
      " 37  blurb_len_clean              20627 non-null  float64\n",
      " 38  deadline_weekday             20632 non-null  object \n",
      " 39  state_changed_at_weekday     20632 non-null  object \n",
      " 40  created_at_weekday           20632 non-null  object \n",
      " 41  launched_at_weekday          20632 non-null  object \n",
      " 42  deadline_month               20632 non-null  int64  \n",
      " 43  deadline_day                 20632 non-null  int64  \n",
      " 44  deadline_yr                  20632 non-null  int64  \n",
      " 45  deadline_hr                  20632 non-null  int64  \n",
      " 46  state_changed_at_month       20632 non-null  int64  \n",
      " 47  state_changed_at_day         20632 non-null  int64  \n",
      " 48  state_changed_at_yr          20632 non-null  int64  \n",
      " 49  state_changed_at_hr          20632 non-null  int64  \n",
      " 50  created_at_month             20632 non-null  int64  \n",
      " 51  created_at_day               20632 non-null  int64  \n",
      " 52  created_at_yr                20632 non-null  int64  \n",
      " 53  created_at_hr                20632 non-null  int64  \n",
      " 54  launched_at_month            20632 non-null  int64  \n",
      " 55  launched_at_day              20632 non-null  int64  \n",
      " 56  launched_at_yr               20632 non-null  int64  \n",
      " 57  launched_at_hr               20632 non-null  int64  \n",
      " 58  create_to_launch             20632 non-null  object \n",
      " 59  launch_to_deadline           20632 non-null  object \n",
      " 60  launch_to_state_change       20632 non-null  object \n",
      " 61  create_to_launch_days        20632 non-null  int64  \n",
      " 62  launch_to_deadline_days      20632 non-null  int64  \n",
      " 63  launch_to_state_change_days  20632 non-null  int64  \n",
      " 64  SuccessfulBool               20632 non-null  int64  \n",
      " 65  USorGB                       20632 non-null  int64  \n",
      " 66  TOPCOUNTRY                   20632 non-null  int64  \n",
      " 67  LaunchedTuesday              20632 non-null  int64  \n",
      " 68  DeadlineWeekend              20632 non-null  int64  \n",
      "dtypes: bool(4), float64(8), int64(28), object(29)\n",
      "memory usage: 10.3+ MB\n"
     ]
    }
   ],
   "source": [
    "# VALIDATION TEST CELL -------------------------------------------------------------------------------------------------\n",
    "# Schema information\n",
    "initdf.info()"
   ]
  },
  {
   "cell_type": "markdown",
   "metadata": {
    "pycharm": {
     "name": "#%% md\n"
    }
   },
   "source": [
    "#### Checking Columns with Null Values"
   ]
  },
  {
   "cell_type": "code",
   "execution_count": 4,
   "metadata": {
    "pycharm": {
     "name": "#%%\n"
    },
    "scrolled": true
   },
   "outputs": [
    {
     "name": "stdout",
     "output_type": "stream",
     "text": [
      "['blurb', 'location', 'category', 'friends', 'is_starred', 'is_backing', 'permissions', 'name_len', 'name_len_clean', 'blurb_len', 'blurb_len_clean']\n"
     ]
    }
   ],
   "source": [
    "# VALIDATION TEST CELL -------------------------------------------------------------------------------------------------\n",
    "\n",
    "print([col for col in initdf.columns if initdf[col].isnull().any()])"
   ]
  },
  {
   "cell_type": "markdown",
   "metadata": {
    "pycharm": {
     "name": "#%% md\n"
    }
   },
   "source": [
    "#### After running the above fucntion, we found out the columns with missing values to handle them.  "
   ]
  },
  {
   "cell_type": "markdown",
   "metadata": {
    "pycharm": {
     "name": "#%% md\n"
    }
   },
   "source": [
    "#### Columns 'blurb', blurb_len', 'blurb_len_clean', 'location', 'name', 'country', 'is_starred', friends', 'permissions', 'is_backing'  have missing values which are required to be handled. "
   ]
  },
  {
   "cell_type": "markdown",
   "metadata": {
    "pycharm": {
     "name": "#%% md\n"
    }
   },
   "source": [
    "## 3. Data Cleaning and Transformations"
   ]
  },
  {
   "cell_type": "code",
   "execution_count": 5,
   "metadata": {
    "pycharm": {
     "name": "#%%\n"
    }
   },
   "outputs": [],
   "source": [
    "#Checking rows for which specified column contains null\n",
    "def nonnullcheck(df, col):\n",
    "    return df[col][df[col].notna()]"
   ]
  },
  {
   "cell_type": "code",
   "execution_count": 6,
   "metadata": {
    "pycharm": {
     "name": "#%%\n"
    }
   },
   "outputs": [
    {
     "data": {
      "text/plain": [
       "1411    NaN\n",
       "6744    NaN\n",
       "9239    NaN\n",
       "11708   NaN\n",
       "14805   NaN\n",
       "Name: blurb_len_clean, dtype: float64"
      ]
     },
     "execution_count": 6,
     "metadata": {},
     "output_type": "execute_result"
    }
   ],
   "source": [
    "# function to check column values of null values \n",
    "def nullcheck(df, col):\n",
    "    return df[col][df[col].isna()]\n",
    "\n",
    "#insert the column name for which you wish to check\n",
    "nullcheck(initdf,'blurb_len_clean') "
   ]
  },
  {
   "cell_type": "markdown",
   "metadata": {
    "pycharm": {
     "name": "#%% md\n"
    }
   },
   "source": []
  },
  {
   "cell_type": "code",
   "execution_count": 7,
   "metadata": {
    "pycharm": {
     "name": "#%%\n"
    }
   },
   "outputs": [],
   "source": [
    "#Handling blurb\n",
    "initdf[\"blurb\"].fillna(\"Missing blurb\", inplace=True)\n",
    "initdf[\"blurb_len\"].fillna(0, inplace=True)\n",
    "initdf[\"blurb_len_clean\"].fillna(0, inplace=True)"
   ]
  },
  {
   "cell_type": "code",
   "execution_count": 8,
   "metadata": {
    "pycharm": {
     "name": "#%%\n"
    },
    "scrolled": true
   },
   "outputs": [
    {
     "data": {
      "text/html": [
       "<div>\n",
       "<style scoped>\n",
       "    .dataframe tbody tr th:only-of-type {\n",
       "        vertical-align: middle;\n",
       "    }\n",
       "\n",
       "    .dataframe tbody tr th {\n",
       "        vertical-align: top;\n",
       "    }\n",
       "\n",
       "    .dataframe thead th {\n",
       "        text-align: right;\n",
       "    }\n",
       "</style>\n",
       "<table border=\"1\" class=\"dataframe\">\n",
       "  <thead>\n",
       "    <tr style=\"text-align: right;\">\n",
       "      <th></th>\n",
       "      <th>blurb</th>\n",
       "      <th>blurb_len</th>\n",
       "      <th>blurb_len_clean</th>\n",
       "    </tr>\n",
       "  </thead>\n",
       "  <tbody>\n",
       "    <tr>\n",
       "      <th>0</th>\n",
       "      <td>MTS ASL Curriculum Workbook is a reproducible ...</td>\n",
       "      <td>21.0</td>\n",
       "      <td>16.0</td>\n",
       "    </tr>\n",
       "    <tr>\n",
       "      <th>1</th>\n",
       "      <td>This kit teaches how to print, correct an ugly...</td>\n",
       "      <td>23.0</td>\n",
       "      <td>15.0</td>\n",
       "    </tr>\n",
       "    <tr>\n",
       "      <th>2</th>\n",
       "      <td>Establishing a free, world-class, public libra...</td>\n",
       "      <td>18.0</td>\n",
       "      <td>10.0</td>\n",
       "    </tr>\n",
       "    <tr>\n",
       "      <th>3</th>\n",
       "      <td>Goal: Introducing a new word into the English ...</td>\n",
       "      <td>21.0</td>\n",
       "      <td>13.0</td>\n",
       "    </tr>\n",
       "    <tr>\n",
       "      <th>4</th>\n",
       "      <td>Zu den Artikeln der DSGVO sind die korrespondi...</td>\n",
       "      <td>18.0</td>\n",
       "      <td>18.0</td>\n",
       "    </tr>\n",
       "    <tr>\n",
       "      <th>...</th>\n",
       "      <td>...</td>\n",
       "      <td>...</td>\n",
       "      <td>...</td>\n",
       "    </tr>\n",
       "    <tr>\n",
       "      <th>20627</th>\n",
       "      <td>The easy way to be present for story time anyt...</td>\n",
       "      <td>21.0</td>\n",
       "      <td>16.0</td>\n",
       "    </tr>\n",
       "    <tr>\n",
       "      <th>20628</th>\n",
       "      <td>A revolutionary App that makes getting fit as ...</td>\n",
       "      <td>20.0</td>\n",
       "      <td>15.0</td>\n",
       "    </tr>\n",
       "    <tr>\n",
       "      <th>20629</th>\n",
       "      <td>We all love fatbooth and Ugly booth, why not s...</td>\n",
       "      <td>27.0</td>\n",
       "      <td>17.0</td>\n",
       "    </tr>\n",
       "    <tr>\n",
       "      <th>20630</th>\n",
       "      <td>Production android app for cab drivers and tru...</td>\n",
       "      <td>8.0</td>\n",
       "      <td>6.0</td>\n",
       "    </tr>\n",
       "    <tr>\n",
       "      <th>20631</th>\n",
       "      <td>We recently launched version 1 of our unique t...</td>\n",
       "      <td>26.0</td>\n",
       "      <td>17.0</td>\n",
       "    </tr>\n",
       "  </tbody>\n",
       "</table>\n",
       "<p>20632 rows × 3 columns</p>\n",
       "</div>"
      ],
      "text/plain": [
       "                                                   blurb  blurb_len  \\\n",
       "0      MTS ASL Curriculum Workbook is a reproducible ...       21.0   \n",
       "1      This kit teaches how to print, correct an ugly...       23.0   \n",
       "2      Establishing a free, world-class, public libra...       18.0   \n",
       "3      Goal: Introducing a new word into the English ...       21.0   \n",
       "4      Zu den Artikeln der DSGVO sind die korrespondi...       18.0   \n",
       "...                                                  ...        ...   \n",
       "20627  The easy way to be present for story time anyt...       21.0   \n",
       "20628  A revolutionary App that makes getting fit as ...       20.0   \n",
       "20629  We all love fatbooth and Ugly booth, why not s...       27.0   \n",
       "20630  Production android app for cab drivers and tru...        8.0   \n",
       "20631  We recently launched version 1 of our unique t...       26.0   \n",
       "\n",
       "       blurb_len_clean  \n",
       "0                 16.0  \n",
       "1                 15.0  \n",
       "2                 10.0  \n",
       "3                 13.0  \n",
       "4                 18.0  \n",
       "...                ...  \n",
       "20627             16.0  \n",
       "20628             15.0  \n",
       "20629             17.0  \n",
       "20630              6.0  \n",
       "20631             17.0  \n",
       "\n",
       "[20632 rows x 3 columns]"
      ]
     },
     "execution_count": 8,
     "metadata": {},
     "output_type": "execute_result"
    }
   ],
   "source": [
    "# VALIDATION TEST CELL -------------------------------------------------------------------------------------------------\n",
    "initdf[['blurb','blurb_len','blurb_len_clean']]"
   ]
  },
  {
   "cell_type": "code",
   "execution_count": 9,
   "metadata": {
    "pycharm": {
     "name": "#%%\n"
    },
    "scrolled": true
   },
   "outputs": [
    {
     "data": {
      "text/plain": [
       "239      NaN\n",
       "528      NaN\n",
       "8444     NaN\n",
       "9285     NaN\n",
       "9290     NaN\n",
       "9303     NaN\n",
       "9318     NaN\n",
       "9499     NaN\n",
       "9506     NaN\n",
       "9549     NaN\n",
       "9670     NaN\n",
       "9715     NaN\n",
       "9763     NaN\n",
       "9801     NaN\n",
       "9903     NaN\n",
       "9980     NaN\n",
       "9987     NaN\n",
       "10045    NaN\n",
       "10100    NaN\n",
       "10174    NaN\n",
       "10235    NaN\n",
       "10299    NaN\n",
       "10448    NaN\n",
       "10466    NaN\n",
       "10503    NaN\n",
       "10509    NaN\n",
       "10525    NaN\n",
       "10595    NaN\n",
       "10619    NaN\n",
       "11557    NaN\n",
       "11598    NaN\n",
       "11636    NaN\n",
       "11706    NaN\n",
       "11732    NaN\n",
       "12718    NaN\n",
       "12843    NaN\n",
       "13680    NaN\n",
       "14086    NaN\n",
       "14252    NaN\n",
       "14254    NaN\n",
       "14619    NaN\n",
       "14631    NaN\n",
       "14971    NaN\n",
       "15600    NaN\n",
       "18337    NaN\n",
       "Name: location, dtype: object"
      ]
     },
     "execution_count": 9,
     "metadata": {},
     "output_type": "execute_result"
    }
   ],
   "source": [
    "# Checking null rows for location\n",
    "nullcheck(initdf,'location')"
   ]
  },
  {
   "cell_type": "code",
   "execution_count": 10,
   "metadata": {
    "pycharm": {
     "name": "#%%\n"
    }
   },
   "outputs": [],
   "source": [
    "# HANDLING LOCATION NULL VALUES\n",
    "# Replacing the Null values in location column with \"No Location Specified\"\n",
    "initdf[\"location\"].fillna(\"No location specified\", inplace=True)"
   ]
  },
  {
   "cell_type": "code",
   "execution_count": 11,
   "metadata": {
    "pycharm": {
     "name": "#%%\n"
    }
   },
   "outputs": [
    {
     "data": {
      "text/html": [
       "<div>\n",
       "<style scoped>\n",
       "    .dataframe tbody tr th:only-of-type {\n",
       "        vertical-align: middle;\n",
       "    }\n",
       "\n",
       "    .dataframe tbody tr th {\n",
       "        vertical-align: top;\n",
       "    }\n",
       "\n",
       "    .dataframe thead th {\n",
       "        text-align: right;\n",
       "    }\n",
       "</style>\n",
       "<table border=\"1\" class=\"dataframe\">\n",
       "  <thead>\n",
       "    <tr style=\"text-align: right;\">\n",
       "      <th></th>\n",
       "      <th>name</th>\n",
       "      <th>location</th>\n",
       "      <th>country</th>\n",
       "    </tr>\n",
       "  </thead>\n",
       "  <tbody>\n",
       "    <tr>\n",
       "      <th>239</th>\n",
       "      <td>THE FLUTTERBIES: Sponsor A Concert! Produce a ...</td>\n",
       "      <td>No location specified</td>\n",
       "      <td>US</td>\n",
       "    </tr>\n",
       "    <tr>\n",
       "      <th>528</th>\n",
       "      <td>\"The Squad\", Directed by Robyn Griggs</td>\n",
       "      <td>No location specified</td>\n",
       "      <td>US</td>\n",
       "    </tr>\n",
       "    <tr>\n",
       "      <th>8444</th>\n",
       "      <td>Photograph the earth from space</td>\n",
       "      <td>No location specified</td>\n",
       "      <td>US</td>\n",
       "    </tr>\n",
       "    <tr>\n",
       "      <th>9285</th>\n",
       "      <td>DIA - Designing Interface Architecture (Phase ...</td>\n",
       "      <td>No location specified</td>\n",
       "      <td>US</td>\n",
       "    </tr>\n",
       "    <tr>\n",
       "      <th>9290</th>\n",
       "      <td>MORE JACQUES COUSTEAU, LESS HUCK FINN</td>\n",
       "      <td>No location specified</td>\n",
       "      <td>US</td>\n",
       "    </tr>\n",
       "    <tr>\n",
       "      <th>9303</th>\n",
       "      <td>MakerBeam: An Open Source Building Kit</td>\n",
       "      <td>No location specified</td>\n",
       "      <td>US</td>\n",
       "    </tr>\n",
       "    <tr>\n",
       "      <th>9318</th>\n",
       "      <td>Offline Wikipedia iPhone app</td>\n",
       "      <td>No location specified</td>\n",
       "      <td>US</td>\n",
       "    </tr>\n",
       "    <tr>\n",
       "      <th>9499</th>\n",
       "      <td>sustainable flower nationwide CSA</td>\n",
       "      <td>No location specified</td>\n",
       "      <td>US</td>\n",
       "    </tr>\n",
       "    <tr>\n",
       "      <th>9506</th>\n",
       "      <td>The Ficly Server Support Project</td>\n",
       "      <td>No location specified</td>\n",
       "      <td>US</td>\n",
       "    </tr>\n",
       "    <tr>\n",
       "      <th>9549</th>\n",
       "      <td>Family Sleep Project</td>\n",
       "      <td>No location specified</td>\n",
       "      <td>US</td>\n",
       "    </tr>\n",
       "    <tr>\n",
       "      <th>9670</th>\n",
       "      <td>Look at how Kickstarter works</td>\n",
       "      <td>No location specified</td>\n",
       "      <td>US</td>\n",
       "    </tr>\n",
       "    <tr>\n",
       "      <th>9715</th>\n",
       "      <td>The Art of Counting</td>\n",
       "      <td>No location specified</td>\n",
       "      <td>US</td>\n",
       "    </tr>\n",
       "    <tr>\n",
       "      <th>9763</th>\n",
       "      <td>Creating a Site for Promoting Open Source Soft...</td>\n",
       "      <td>No location specified</td>\n",
       "      <td>US</td>\n",
       "    </tr>\n",
       "    <tr>\n",
       "      <th>9801</th>\n",
       "      <td>Ride For World Health</td>\n",
       "      <td>No location specified</td>\n",
       "      <td>US</td>\n",
       "    </tr>\n",
       "    <tr>\n",
       "      <th>9903</th>\n",
       "      <td>New, jaw-dropping website for the biggest podc...</td>\n",
       "      <td>No location specified</td>\n",
       "      <td>US</td>\n",
       "    </tr>\n",
       "    <tr>\n",
       "      <th>9980</th>\n",
       "      <td>Gps Trail Conference</td>\n",
       "      <td>No location specified</td>\n",
       "      <td>US</td>\n",
       "    </tr>\n",
       "    <tr>\n",
       "      <th>9987</th>\n",
       "      <td>No Scroll Email (Custom Timesaving Email Appli...</td>\n",
       "      <td>No location specified</td>\n",
       "      <td>US</td>\n",
       "    </tr>\n",
       "    <tr>\n",
       "      <th>10045</th>\n",
       "      <td>ElectricalWhat?!</td>\n",
       "      <td>No location specified</td>\n",
       "      <td>US</td>\n",
       "    </tr>\n",
       "    <tr>\n",
       "      <th>10100</th>\n",
       "      <td>Recipe Nom - Easy Recipe storing and bookmarki...</td>\n",
       "      <td>No location specified</td>\n",
       "      <td>US</td>\n",
       "    </tr>\n",
       "    <tr>\n",
       "      <th>10174</th>\n",
       "      <td>The Civil War Augmented Reality Project</td>\n",
       "      <td>No location specified</td>\n",
       "      <td>US</td>\n",
       "    </tr>\n",
       "    <tr>\n",
       "      <th>10235</th>\n",
       "      <td>What Is In My Birthchart</td>\n",
       "      <td>No location specified</td>\n",
       "      <td>US</td>\n",
       "    </tr>\n",
       "    <tr>\n",
       "      <th>10299</th>\n",
       "      <td>Good Dirt Radio: Climate Solutions for Individ...</td>\n",
       "      <td>No location specified</td>\n",
       "      <td>US</td>\n",
       "    </tr>\n",
       "    <tr>\n",
       "      <th>10448</th>\n",
       "      <td>Cleaning up Hawaii's reefs</td>\n",
       "      <td>No location specified</td>\n",
       "      <td>US</td>\n",
       "    </tr>\n",
       "    <tr>\n",
       "      <th>10466</th>\n",
       "      <td>Beer Universe Android Application</td>\n",
       "      <td>No location specified</td>\n",
       "      <td>US</td>\n",
       "    </tr>\n",
       "    <tr>\n",
       "      <th>10503</th>\n",
       "      <td>9 to 5 Brow$er</td>\n",
       "      <td>No location specified</td>\n",
       "      <td>US</td>\n",
       "    </tr>\n",
       "    <tr>\n",
       "      <th>10509</th>\n",
       "      <td>iGoozex - Free iPhone app</td>\n",
       "      <td>No location specified</td>\n",
       "      <td>US</td>\n",
       "    </tr>\n",
       "    <tr>\n",
       "      <th>10525</th>\n",
       "      <td>Spreading Geek Love</td>\n",
       "      <td>No location specified</td>\n",
       "      <td>US</td>\n",
       "    </tr>\n",
       "    <tr>\n",
       "      <th>10595</th>\n",
       "      <td>Prophet</td>\n",
       "      <td>No location specified</td>\n",
       "      <td>US</td>\n",
       "    </tr>\n",
       "    <tr>\n",
       "      <th>10619</th>\n",
       "      <td>SymfonUs</td>\n",
       "      <td>No location specified</td>\n",
       "      <td>US</td>\n",
       "    </tr>\n",
       "    <tr>\n",
       "      <th>11557</th>\n",
       "      <td>Canceled (Canceled)</td>\n",
       "      <td>No location specified</td>\n",
       "      <td>US</td>\n",
       "    </tr>\n",
       "    <tr>\n",
       "      <th>11598</th>\n",
       "      <td>Don't Put Down the Twimote! (Canceled)</td>\n",
       "      <td>No location specified</td>\n",
       "      <td>US</td>\n",
       "    </tr>\n",
       "    <tr>\n",
       "      <th>11636</th>\n",
       "      <td>StreetEats (Canceled)</td>\n",
       "      <td>No location specified</td>\n",
       "      <td>US</td>\n",
       "    </tr>\n",
       "    <tr>\n",
       "      <th>11706</th>\n",
       "      <td>TwHistory - Those who forget history are doome...</td>\n",
       "      <td>No location specified</td>\n",
       "      <td>US</td>\n",
       "    </tr>\n",
       "    <tr>\n",
       "      <th>11732</th>\n",
       "      <td>GOT YOUR BACK: Mission Haiti (Canceled)</td>\n",
       "      <td>No location specified</td>\n",
       "      <td>US</td>\n",
       "    </tr>\n",
       "    <tr>\n",
       "      <th>12718</th>\n",
       "      <td>Fusion in a Bubblegum Machine</td>\n",
       "      <td>No location specified</td>\n",
       "      <td>US</td>\n",
       "    </tr>\n",
       "    <tr>\n",
       "      <th>12843</th>\n",
       "      <td>An Environmental Research Mission To Explore P...</td>\n",
       "      <td>No location specified</td>\n",
       "      <td>US</td>\n",
       "    </tr>\n",
       "    <tr>\n",
       "      <th>13680</th>\n",
       "      <td>Fabroot - Making 3D Fabrication Available to E...</td>\n",
       "      <td>No location specified</td>\n",
       "      <td>US</td>\n",
       "    </tr>\n",
       "    <tr>\n",
       "      <th>14086</th>\n",
       "      <td>Paranormal Equipment Drive</td>\n",
       "      <td>No location specified</td>\n",
       "      <td>US</td>\n",
       "    </tr>\n",
       "    <tr>\n",
       "      <th>14252</th>\n",
       "      <td>Stand Up &amp; Come Together with The Relentless F...</td>\n",
       "      <td>No location specified</td>\n",
       "      <td>US</td>\n",
       "    </tr>\n",
       "    <tr>\n",
       "      <th>14254</th>\n",
       "      <td>Radically Efficient Design for People Transport</td>\n",
       "      <td>No location specified</td>\n",
       "      <td>US</td>\n",
       "    </tr>\n",
       "    <tr>\n",
       "      <th>14619</th>\n",
       "      <td>Provisional Patent for TESS Cooling System</td>\n",
       "      <td>No location specified</td>\n",
       "      <td>US</td>\n",
       "    </tr>\n",
       "    <tr>\n",
       "      <th>14631</th>\n",
       "      <td>Mass Produce the Bison Oleander Time Machine</td>\n",
       "      <td>No location specified</td>\n",
       "      <td>US</td>\n",
       "    </tr>\n",
       "    <tr>\n",
       "      <th>14971</th>\n",
       "      <td>Bridging the Informational Divide through Free...</td>\n",
       "      <td>No location specified</td>\n",
       "      <td>US</td>\n",
       "    </tr>\n",
       "    <tr>\n",
       "      <th>15600</th>\n",
       "      <td>Artificial Intelligence (Canceled)</td>\n",
       "      <td>No location specified</td>\n",
       "      <td>US</td>\n",
       "    </tr>\n",
       "    <tr>\n",
       "      <th>18337</th>\n",
       "      <td>Lasersaur: Open Source Laser Cutter</td>\n",
       "      <td>No location specified</td>\n",
       "      <td>US</td>\n",
       "    </tr>\n",
       "  </tbody>\n",
       "</table>\n",
       "</div>"
      ],
      "text/plain": [
       "                                                    name  \\\n",
       "239    THE FLUTTERBIES: Sponsor A Concert! Produce a ...   \n",
       "528                \"The Squad\", Directed by Robyn Griggs   \n",
       "8444                     Photograph the earth from space   \n",
       "9285   DIA - Designing Interface Architecture (Phase ...   \n",
       "9290               MORE JACQUES COUSTEAU, LESS HUCK FINN   \n",
       "9303              MakerBeam: An Open Source Building Kit   \n",
       "9318                        Offline Wikipedia iPhone app   \n",
       "9499                   sustainable flower nationwide CSA   \n",
       "9506                    The Ficly Server Support Project   \n",
       "9549                                Family Sleep Project   \n",
       "9670                       Look at how Kickstarter works   \n",
       "9715                                 The Art of Counting   \n",
       "9763   Creating a Site for Promoting Open Source Soft...   \n",
       "9801                               Ride For World Health   \n",
       "9903   New, jaw-dropping website for the biggest podc...   \n",
       "9980                                Gps Trail Conference   \n",
       "9987   No Scroll Email (Custom Timesaving Email Appli...   \n",
       "10045                                   ElectricalWhat?!   \n",
       "10100  Recipe Nom - Easy Recipe storing and bookmarki...   \n",
       "10174            The Civil War Augmented Reality Project   \n",
       "10235                           What Is In My Birthchart   \n",
       "10299  Good Dirt Radio: Climate Solutions for Individ...   \n",
       "10448                         Cleaning up Hawaii's reefs   \n",
       "10466                  Beer Universe Android Application   \n",
       "10503                                     9 to 5 Brow$er   \n",
       "10509                          iGoozex - Free iPhone app   \n",
       "10525                                Spreading Geek Love   \n",
       "10595                                            Prophet   \n",
       "10619                                           SymfonUs   \n",
       "11557                                Canceled (Canceled)   \n",
       "11598             Don't Put Down the Twimote! (Canceled)   \n",
       "11636                              StreetEats (Canceled)   \n",
       "11706  TwHistory - Those who forget history are doome...   \n",
       "11732            GOT YOUR BACK: Mission Haiti (Canceled)   \n",
       "12718                      Fusion in a Bubblegum Machine   \n",
       "12843  An Environmental Research Mission To Explore P...   \n",
       "13680  Fabroot - Making 3D Fabrication Available to E...   \n",
       "14086                         Paranormal Equipment Drive   \n",
       "14252  Stand Up & Come Together with The Relentless F...   \n",
       "14254    Radically Efficient Design for People Transport   \n",
       "14619         Provisional Patent for TESS Cooling System   \n",
       "14631       Mass Produce the Bison Oleander Time Machine   \n",
       "14971  Bridging the Informational Divide through Free...   \n",
       "15600                 Artificial Intelligence (Canceled)   \n",
       "18337                Lasersaur: Open Source Laser Cutter   \n",
       "\n",
       "                    location country  \n",
       "239    No location specified      US  \n",
       "528    No location specified      US  \n",
       "8444   No location specified      US  \n",
       "9285   No location specified      US  \n",
       "9290   No location specified      US  \n",
       "9303   No location specified      US  \n",
       "9318   No location specified      US  \n",
       "9499   No location specified      US  \n",
       "9506   No location specified      US  \n",
       "9549   No location specified      US  \n",
       "9670   No location specified      US  \n",
       "9715   No location specified      US  \n",
       "9763   No location specified      US  \n",
       "9801   No location specified      US  \n",
       "9903   No location specified      US  \n",
       "9980   No location specified      US  \n",
       "9987   No location specified      US  \n",
       "10045  No location specified      US  \n",
       "10100  No location specified      US  \n",
       "10174  No location specified      US  \n",
       "10235  No location specified      US  \n",
       "10299  No location specified      US  \n",
       "10448  No location specified      US  \n",
       "10466  No location specified      US  \n",
       "10503  No location specified      US  \n",
       "10509  No location specified      US  \n",
       "10525  No location specified      US  \n",
       "10595  No location specified      US  \n",
       "10619  No location specified      US  \n",
       "11557  No location specified      US  \n",
       "11598  No location specified      US  \n",
       "11636  No location specified      US  \n",
       "11706  No location specified      US  \n",
       "11732  No location specified      US  \n",
       "12718  No location specified      US  \n",
       "12843  No location specified      US  \n",
       "13680  No location specified      US  \n",
       "14086  No location specified      US  \n",
       "14252  No location specified      US  \n",
       "14254  No location specified      US  \n",
       "14619  No location specified      US  \n",
       "14631  No location specified      US  \n",
       "14971  No location specified      US  \n",
       "15600  No location specified      US  \n",
       "18337  No location specified      US  "
      ]
     },
     "execution_count": 11,
     "metadata": {},
     "output_type": "execute_result"
    }
   ],
   "source": [
    "# Chekcing 'name', 'location' and 'country' for rows which has unspecified location\n",
    "initdf[['name', 'location', 'country']][initdf['location'] == \"No location specified\"]\n"
   ]
  },
  {
   "cell_type": "markdown",
   "metadata": {
    "pycharm": {
     "name": "#%% md\n"
    }
   },
   "source": [
    "#### Checking null values in columns: 'is_starred', friends', 'permissions' &'is_backing'."
   ]
  },
  {
   "cell_type": "code",
   "execution_count": 12,
   "metadata": {
    "pycharm": {
     "name": "#%%\n"
    }
   },
   "outputs": [
    {
     "data": {
      "text/plain": [
       "15831    False\n",
       "15832    False\n",
       "15833    False\n",
       "15834    False\n",
       "15835    False\n",
       "15836    False\n",
       "15837    False\n",
       "15838    False\n",
       "15839    False\n",
       "15840    False\n",
       "15841    False\n",
       "15842    False\n",
       "15843    False\n",
       "15844    False\n",
       "15845    False\n",
       "15846    False\n",
       "15847    False\n",
       "15848    False\n",
       "15849    False\n",
       "15850    False\n",
       "15851    False\n",
       "15852    False\n",
       "15853    False\n",
       "15854    False\n",
       "15855    False\n",
       "15856    False\n",
       "15857    False\n",
       "15858    False\n",
       "15859    False\n",
       "15860    False\n",
       "15861    False\n",
       "15862    False\n",
       "15863    False\n",
       "15864    False\n",
       "15865    False\n",
       "15866    False\n",
       "15867    False\n",
       "15868    False\n",
       "15869    False\n",
       "15870    False\n",
       "15891    False\n",
       "15892    False\n",
       "15893    False\n",
       "15894    False\n",
       "15895    False\n",
       "15896    False\n",
       "15897    False\n",
       "15898    False\n",
       "15899    False\n",
       "15900    False\n",
       "15901    False\n",
       "15902    False\n",
       "15903    False\n",
       "15904    False\n",
       "15905    False\n",
       "15906    False\n",
       "15907    False\n",
       "15908    False\n",
       "15909    False\n",
       "15910    False\n",
       "Name: is_backing, dtype: object"
      ]
     },
     "execution_count": 12,
     "metadata": {},
     "output_type": "execute_result"
    }
   ],
   "source": [
    "#Checing the Non-null Values and evaluating their impact. \n",
    "nonnullcheck(initdf, 'is_backing')"
   ]
  },
  {
   "cell_type": "code",
   "execution_count": 13,
   "metadata": {
    "pycharm": {
     "name": "#%%\n"
    }
   },
   "outputs": [
    {
     "data": {
      "text/plain": [
       "15831    False\n",
       "15832    False\n",
       "15833    False\n",
       "15834    False\n",
       "15835    False\n",
       "15836    False\n",
       "15837    False\n",
       "15838    False\n",
       "15839    False\n",
       "15840    False\n",
       "15841    False\n",
       "15842    False\n",
       "15843    False\n",
       "15844    False\n",
       "15845    False\n",
       "15846    False\n",
       "15847    False\n",
       "15848    False\n",
       "15849    False\n",
       "15850    False\n",
       "15851    False\n",
       "15852    False\n",
       "15853    False\n",
       "15854    False\n",
       "15855    False\n",
       "15856    False\n",
       "15857    False\n",
       "15858    False\n",
       "15859    False\n",
       "15860    False\n",
       "15861    False\n",
       "15862    False\n",
       "15863    False\n",
       "15864    False\n",
       "15865    False\n",
       "15866    False\n",
       "15867    False\n",
       "15868    False\n",
       "15869    False\n",
       "15870    False\n",
       "15891    False\n",
       "15892    False\n",
       "15893    False\n",
       "15894    False\n",
       "15895    False\n",
       "15896    False\n",
       "15897    False\n",
       "15898    False\n",
       "15899    False\n",
       "15900    False\n",
       "15901    False\n",
       "15902    False\n",
       "15903    False\n",
       "15904    False\n",
       "15905    False\n",
       "15906    False\n",
       "15907    False\n",
       "15908    False\n",
       "15909    False\n",
       "15910    False\n",
       "Name: is_starred, dtype: object"
      ]
     },
     "execution_count": 13,
     "metadata": {},
     "output_type": "execute_result"
    }
   ],
   "source": [
    "#Checing the Non-null Values and evaluating their impact. \n",
    "nonnullcheck(initdf, 'is_starred')"
   ]
  },
  {
   "cell_type": "code",
   "execution_count": 14,
   "metadata": {
    "pycharm": {
     "name": "#%%\n"
    }
   },
   "outputs": [
    {
     "data": {
      "text/plain": [
       "15831    []\n",
       "15832    []\n",
       "15833    []\n",
       "15834    []\n",
       "15835    []\n",
       "15836    []\n",
       "15837    []\n",
       "15838    []\n",
       "15839    []\n",
       "15840    []\n",
       "15841    []\n",
       "15842    []\n",
       "15843    []\n",
       "15844    []\n",
       "15845    []\n",
       "15846    []\n",
       "15847    []\n",
       "15848    []\n",
       "15849    []\n",
       "15850    []\n",
       "15851    []\n",
       "15852    []\n",
       "15853    []\n",
       "15854    []\n",
       "15855    []\n",
       "15856    []\n",
       "15857    []\n",
       "15858    []\n",
       "15859    []\n",
       "15860    []\n",
       "15861    []\n",
       "15862    []\n",
       "15863    []\n",
       "15864    []\n",
       "15865    []\n",
       "15866    []\n",
       "15867    []\n",
       "15868    []\n",
       "15869    []\n",
       "15870    []\n",
       "15891    []\n",
       "15892    []\n",
       "15893    []\n",
       "15894    []\n",
       "15895    []\n",
       "15896    []\n",
       "15897    []\n",
       "15898    []\n",
       "15899    []\n",
       "15900    []\n",
       "15901    []\n",
       "15902    []\n",
       "15903    []\n",
       "15904    []\n",
       "15905    []\n",
       "15906    []\n",
       "15907    []\n",
       "15908    []\n",
       "15909    []\n",
       "15910    []\n",
       "Name: friends, dtype: object"
      ]
     },
     "execution_count": 14,
     "metadata": {},
     "output_type": "execute_result"
    }
   ],
   "source": [
    "#Checing the Non-null Values and evaluating their impact. \n",
    "\n",
    "nonnullcheck(initdf, 'friends')"
   ]
  },
  {
   "cell_type": "code",
   "execution_count": 15,
   "metadata": {
    "pycharm": {
     "name": "#%%\n"
    }
   },
   "outputs": [
    {
     "data": {
      "text/plain": [
       "15831    []\n",
       "15832    []\n",
       "15833    []\n",
       "15834    []\n",
       "15835    []\n",
       "15836    []\n",
       "15837    []\n",
       "15838    []\n",
       "15839    []\n",
       "15840    []\n",
       "15841    []\n",
       "15842    []\n",
       "15843    []\n",
       "15844    []\n",
       "15845    []\n",
       "15846    []\n",
       "15847    []\n",
       "15848    []\n",
       "15849    []\n",
       "15850    []\n",
       "15851    []\n",
       "15852    []\n",
       "15853    []\n",
       "15854    []\n",
       "15855    []\n",
       "15856    []\n",
       "15857    []\n",
       "15858    []\n",
       "15859    []\n",
       "15860    []\n",
       "15861    []\n",
       "15862    []\n",
       "15863    []\n",
       "15864    []\n",
       "15865    []\n",
       "15866    []\n",
       "15867    []\n",
       "15868    []\n",
       "15869    []\n",
       "15870    []\n",
       "15891    []\n",
       "15892    []\n",
       "15893    []\n",
       "15894    []\n",
       "15895    []\n",
       "15896    []\n",
       "15897    []\n",
       "15898    []\n",
       "15899    []\n",
       "15900    []\n",
       "15901    []\n",
       "15902    []\n",
       "15903    []\n",
       "15904    []\n",
       "15905    []\n",
       "15906    []\n",
       "15907    []\n",
       "15908    []\n",
       "15909    []\n",
       "15910    []\n",
       "Name: permissions, dtype: object"
      ]
     },
     "execution_count": 15,
     "metadata": {},
     "output_type": "execute_result"
    }
   ],
   "source": [
    "#Checing the Non-null Values and evaluating their impact. \n",
    "\n",
    "nonnullcheck(initdf, 'permissions')"
   ]
  },
  {
   "cell_type": "markdown",
   "metadata": {
    "pycharm": {
     "name": "#%% md\n"
    }
   },
   "source": [
    "### DROPPING UNNECESSARY COLUMNS\n"
   ]
  },
  {
   "cell_type": "code",
   "execution_count": 16,
   "metadata": {
    "pycharm": {
     "name": "#%%\n"
    }
   },
   "outputs": [],
   "source": [
    "# Since the maximum values columns 'friends', 'is_starred', 'is_backing'& 'permissions' is either Null or inserted by the author which will also not affect out visualisations, we will drop these four columns.\n",
    "\n",
    "initdf.drop(['friends', 'is_starred', 'is_backing', 'permissions'], inplace=True, axis=1)"
   ]
  },
  {
   "cell_type": "code",
   "execution_count": 17,
   "metadata": {
    "pycharm": {
     "name": "#%%\n"
    }
   },
   "outputs": [
    {
     "name": "stdout",
     "output_type": "stream",
     "text": [
      "<class 'pandas.core.frame.DataFrame'>\n",
      "RangeIndex: 20632 entries, 0 to 20631\n",
      "Data columns (total 65 columns):\n",
      " #   Column                       Non-Null Count  Dtype  \n",
      "---  ------                       --------------  -----  \n",
      " 0   index                        20632 non-null  int64  \n",
      " 1   Unnamed: 0                   20632 non-null  int64  \n",
      " 2   id                           20632 non-null  int64  \n",
      " 3   photo                        20632 non-null  object \n",
      " 4   name                         20632 non-null  object \n",
      " 5   blurb                        20632 non-null  object \n",
      " 6   goal                         20632 non-null  float64\n",
      " 7   pledged                      20632 non-null  float64\n",
      " 8   state                        20632 non-null  object \n",
      " 9   slug                         20632 non-null  object \n",
      " 10  disable_communication        20632 non-null  bool   \n",
      " 11  country                      20632 non-null  object \n",
      " 12  currency                     20632 non-null  object \n",
      " 13  currency_symbol              20632 non-null  object \n",
      " 14  currency_trailing_code       20632 non-null  bool   \n",
      " 15  deadline                     20632 non-null  object \n",
      " 16  state_changed_at             20632 non-null  object \n",
      " 17  created_at                   20632 non-null  object \n",
      " 18  launched_at                  20632 non-null  object \n",
      " 19  staff_pick                   20632 non-null  bool   \n",
      " 20  backers_count                20632 non-null  int64  \n",
      " 21  static_usd_rate              20632 non-null  float64\n",
      " 22  usd_pledged                  20632 non-null  float64\n",
      " 23  creator                      20632 non-null  object \n",
      " 24  location                     20632 non-null  object \n",
      " 25  category                     18743 non-null  object \n",
      " 26  profile                      20632 non-null  object \n",
      " 27  spotlight                    20632 non-null  bool   \n",
      " 28  urls                         20632 non-null  object \n",
      " 29  source_url                   20632 non-null  object \n",
      " 30  name_len                     20627 non-null  float64\n",
      " 31  name_len_clean               20627 non-null  float64\n",
      " 32  blurb_len                    20632 non-null  float64\n",
      " 33  blurb_len_clean              20632 non-null  float64\n",
      " 34  deadline_weekday             20632 non-null  object \n",
      " 35  state_changed_at_weekday     20632 non-null  object \n",
      " 36  created_at_weekday           20632 non-null  object \n",
      " 37  launched_at_weekday          20632 non-null  object \n",
      " 38  deadline_month               20632 non-null  int64  \n",
      " 39  deadline_day                 20632 non-null  int64  \n",
      " 40  deadline_yr                  20632 non-null  int64  \n",
      " 41  deadline_hr                  20632 non-null  int64  \n",
      " 42  state_changed_at_month       20632 non-null  int64  \n",
      " 43  state_changed_at_day         20632 non-null  int64  \n",
      " 44  state_changed_at_yr          20632 non-null  int64  \n",
      " 45  state_changed_at_hr          20632 non-null  int64  \n",
      " 46  created_at_month             20632 non-null  int64  \n",
      " 47  created_at_day               20632 non-null  int64  \n",
      " 48  created_at_yr                20632 non-null  int64  \n",
      " 49  created_at_hr                20632 non-null  int64  \n",
      " 50  launched_at_month            20632 non-null  int64  \n",
      " 51  launched_at_day              20632 non-null  int64  \n",
      " 52  launched_at_yr               20632 non-null  int64  \n",
      " 53  launched_at_hr               20632 non-null  int64  \n",
      " 54  create_to_launch             20632 non-null  object \n",
      " 55  launch_to_deadline           20632 non-null  object \n",
      " 56  launch_to_state_change       20632 non-null  object \n",
      " 57  create_to_launch_days        20632 non-null  int64  \n",
      " 58  launch_to_deadline_days      20632 non-null  int64  \n",
      " 59  launch_to_state_change_days  20632 non-null  int64  \n",
      " 60  SuccessfulBool               20632 non-null  int64  \n",
      " 61  USorGB                       20632 non-null  int64  \n",
      " 62  TOPCOUNTRY                   20632 non-null  int64  \n",
      " 63  LaunchedTuesday              20632 non-null  int64  \n",
      " 64  DeadlineWeekend              20632 non-null  int64  \n",
      "dtypes: bool(4), float64(8), int64(28), object(25)\n",
      "memory usage: 9.7+ MB\n"
     ]
    }
   ],
   "source": [
    "# To get the look of new Dataframe\n",
    "initdf.info()"
   ]
  },
  {
   "cell_type": "code",
   "execution_count": 18,
   "metadata": {
    "pycharm": {
     "name": "#%%\n"
    }
   },
   "outputs": [
    {
     "data": {
      "text/plain": [
       "120      NaN\n",
       "121      NaN\n",
       "122      NaN\n",
       "123      NaN\n",
       "124      NaN\n",
       "        ... \n",
       "19579    NaN\n",
       "19580    NaN\n",
       "19581    NaN\n",
       "19582    NaN\n",
       "19583    NaN\n",
       "Name: category, Length: 1889, dtype: object"
      ]
     },
     "execution_count": 18,
     "metadata": {},
     "output_type": "execute_result"
    }
   ],
   "source": [
    "# VALIDATION TEST CELL -------------------------------------------------------------------------------------------------\n",
    "nullcheck(initdf, 'category')"
   ]
  },
  {
   "cell_type": "code",
   "execution_count": 19,
   "metadata": {
    "pycharm": {
     "name": "#%%\n"
    }
   },
   "outputs": [
    {
     "data": {
      "text/plain": [
       "0        Academic\n",
       "1        Academic\n",
       "2        Academic\n",
       "3        Academic\n",
       "4        Academic\n",
       "           ...   \n",
       "20627        Apps\n",
       "20628        Apps\n",
       "20629        Apps\n",
       "20630        Apps\n",
       "20631        Apps\n",
       "Name: category, Length: 18743, dtype: object"
      ]
     },
     "execution_count": 19,
     "metadata": {},
     "output_type": "execute_result"
    }
   ],
   "source": [
    "# VALIDATION TEST CELL -------------------------------------------------------------------------------------------------\n",
    "\n",
    "nonnullcheck(initdf, 'category')"
   ]
  },
  {
   "cell_type": "code",
   "execution_count": 20,
   "metadata": {
    "pycharm": {
     "name": "#%%\n"
    }
   },
   "outputs": [
    {
     "data": {
      "text/html": [
       "<div>\n",
       "<style scoped>\n",
       "    .dataframe tbody tr th:only-of-type {\n",
       "        vertical-align: middle;\n",
       "    }\n",
       "\n",
       "    .dataframe tbody tr th {\n",
       "        vertical-align: top;\n",
       "    }\n",
       "\n",
       "    .dataframe thead th {\n",
       "        text-align: right;\n",
       "    }\n",
       "</style>\n",
       "<table border=\"1\" class=\"dataframe\">\n",
       "  <thead>\n",
       "    <tr style=\"text-align: right;\">\n",
       "      <th></th>\n",
       "      <th>name</th>\n",
       "      <th>category</th>\n",
       "    </tr>\n",
       "  </thead>\n",
       "  <tbody>\n",
       "  </tbody>\n",
       "</table>\n",
       "</div>"
      ],
      "text/plain": [
       "Empty DataFrame\n",
       "Columns: [name, category]\n",
       "Index: []"
      ]
     },
     "execution_count": 20,
     "metadata": {},
     "output_type": "execute_result"
    }
   ],
   "source": [
    "#For all the Null values in categories, we are grouping them and assigning them a value for a cleaner outlay of the dataset.\n",
    "\n",
    "initdf[['name','category']][initdf['category']==\"Uncategorized\"]"
   ]
  },
  {
   "cell_type": "code",
   "execution_count": 21,
   "metadata": {
    "pycharm": {
     "name": "#%%\n"
    }
   },
   "outputs": [],
   "source": [
    "# Handling categories\n",
    "initdf[\"category\"].fillna(\"Uncategorized\", inplace=True)"
   ]
  },
  {
   "cell_type": "code",
   "execution_count": 22,
   "metadata": {
    "pycharm": {
     "name": "#%%\n"
    }
   },
   "outputs": [
    {
     "name": "stdout",
     "output_type": "stream",
     "text": [
      "['name_len', 'name_len_clean']\n"
     ]
    }
   ],
   "source": [
    "# VALIDATION TEST CELL -------------------------------------------------------------------------------------------------\n",
    "\n",
    "#check if all null values have been handled\n",
    "print([col for col in initdf.columns if initdf[col].isnull().any()])"
   ]
  },
  {
   "cell_type": "code",
   "execution_count": 23,
   "metadata": {
    "pycharm": {
     "name": "#%%\n"
    }
   },
   "outputs": [
    {
     "data": {
      "text/plain": [
       "0        11.0\n",
       "1         4.0\n",
       "2         8.0\n",
       "3         7.0\n",
       "4         7.0\n",
       "         ... \n",
       "20627     8.0\n",
       "20628     2.0\n",
       "20629     3.0\n",
       "20630     1.0\n",
       "20631     3.0\n",
       "Name: name_len, Length: 20627, dtype: float64"
      ]
     },
     "execution_count": 23,
     "metadata": {},
     "output_type": "execute_result"
    }
   ],
   "source": [
    "# VALIDATION TEST CELL -------------------------------------------------------------------------------------------------\n",
    "\n",
    "\n",
    "nonnullcheck(initdf, 'name_len')"
   ]
  },
  {
   "cell_type": "code",
   "execution_count": 24,
   "metadata": {
    "pycharm": {
     "name": "#%%\n"
    }
   },
   "outputs": [
    {
     "data": {
      "text/plain": [
       "1411    NaN\n",
       "6744    NaN\n",
       "9239    NaN\n",
       "11708   NaN\n",
       "14805   NaN\n",
       "Name: name_len, dtype: float64"
      ]
     },
     "execution_count": 24,
     "metadata": {},
     "output_type": "execute_result"
    }
   ],
   "source": [
    "# VALIDATION TEST CELL -------------------------------------------------------------------------------------------------\n",
    "\n",
    "\n",
    "nullcheck(initdf, 'name_len')"
   ]
  },
  {
   "cell_type": "code",
   "execution_count": 25,
   "metadata": {
    "pycharm": {
     "name": "#%%\n"
    }
   },
   "outputs": [
    {
     "data": {
      "text/html": [
       "<div>\n",
       "<style scoped>\n",
       "    .dataframe tbody tr th:only-of-type {\n",
       "        vertical-align: middle;\n",
       "    }\n",
       "\n",
       "    .dataframe tbody tr th {\n",
       "        vertical-align: top;\n",
       "    }\n",
       "\n",
       "    .dataframe thead th {\n",
       "        text-align: right;\n",
       "    }\n",
       "</style>\n",
       "<table border=\"1\" class=\"dataframe\">\n",
       "  <thead>\n",
       "    <tr style=\"text-align: right;\">\n",
       "      <th></th>\n",
       "      <th>name</th>\n",
       "      <th>name_len</th>\n",
       "      <th>name_len_clean</th>\n",
       "    </tr>\n",
       "  </thead>\n",
       "  <tbody>\n",
       "  </tbody>\n",
       "</table>\n",
       "</div>"
      ],
      "text/plain": [
       "Empty DataFrame\n",
       "Columns: [name, name_len, name_len_clean]\n",
       "Index: []"
      ]
     },
     "execution_count": 25,
     "metadata": {},
     "output_type": "execute_result"
    }
   ],
   "source": [
    "# VALIDATION TEST CELL -------------------------------------------------------------------------------------------------\n",
    "\n",
    "\n",
    "initdf[['name','name_len','name_len_clean']][initdf['name_len']==0.0]"
   ]
  },
  {
   "cell_type": "code",
   "execution_count": 26,
   "metadata": {
    "pycharm": {
     "name": "#%%\n"
    }
   },
   "outputs": [],
   "source": [
    "# DROPPING INCOMPLETE DATA ROWS\n",
    "\n",
    "initdf.drop(labels=[1411,6744,9239,11708,14805], axis=0, inplace=True)"
   ]
  },
  {
   "cell_type": "code",
   "execution_count": 27,
   "metadata": {
    "pycharm": {
     "name": "#%%\n"
    }
   },
   "outputs": [
    {
     "data": {
      "text/plain": [
       "False"
      ]
     },
     "execution_count": 27,
     "metadata": {},
     "output_type": "execute_result"
    }
   ],
   "source": [
    "# VALIDATION TEST CELL -------------------------------------------------------------------------------------------------\n",
    "# Checking for Null values in Dataframe\n",
    "\n",
    "initdf.isnull().values.any()"
   ]
  },
  {
   "cell_type": "markdown",
   "metadata": {
    "pycharm": {
     "name": "#%% md\n"
    }
   },
   "source": [
    "## VALIDATION TEST CELLS "
   ]
  },
  {
   "cell_type": "code",
   "execution_count": 28,
   "metadata": {
    "pycharm": {
     "name": "#%%\n"
    },
    "scrolled": true
   },
   "outputs": [],
   "source": [
    "# VALIDATION TEST CELL -------------------------------------------------------------------------------------------------\n",
    "\n",
    "# initdf.info()"
   ]
  },
  {
   "cell_type": "code",
   "execution_count": 29,
   "metadata": {
    "pycharm": {
     "name": "#%%\n"
    }
   },
   "outputs": [],
   "source": [
    "# VALIDATION TEST CELL -------------------------------------------------------------------------------------------------\n",
    "\n",
    "# Checking count of categories by their states\n",
    "# initdf.groupby(\"state\")[[\"category\"]].count()"
   ]
  },
  {
   "cell_type": "code",
   "execution_count": 30,
   "metadata": {
    "pycharm": {
     "name": "#%%\n"
    }
   },
   "outputs": [],
   "source": [
    "# VALIDATION TEST CELL -------------------------------------------------------------------------------------------------\n",
    "\n",
    "# Count the number of unique values\n",
    "# initdf[[\"category\",\"state\"]].nunique()"
   ]
  },
  {
   "cell_type": "code",
   "execution_count": 31,
   "metadata": {
    "pycharm": {
     "name": "#%%\n"
    },
    "scrolled": true
   },
   "outputs": [],
   "source": [
    "# VALIDATION TEST CELL -------------------------------------------------------------------------------------------------\n",
    "\n",
    "# List number of unique values\n",
    "# initdf[\"state\"].unique()"
   ]
  },
  {
   "cell_type": "code",
   "execution_count": 32,
   "metadata": {
    "pycharm": {
     "name": "#%%\n"
    }
   },
   "outputs": [],
   "source": [
    "# VALIDATION TEST CELL -------------------------------------------------------------------------------------------------\n",
    "\n",
    "# initdf[\"category\"].unique()"
   ]
  },
  {
   "cell_type": "markdown",
   "metadata": {
    "pycharm": {
     "name": "#%% md\n"
    }
   },
   "source": [
    "### CREATING DATAFRAMES BY STATE\n"
   ]
  },
  {
   "cell_type": "code",
   "execution_count": 33,
   "metadata": {
    "pycharm": {
     "name": "#%%\n"
    }
   },
   "outputs": [],
   "source": [
    "failed_df = initdf[initdf[\"state\"] == \"failed\"].groupby([\"category\"])[['state']].count().reset_index()\n",
    "successful_df = initdf[initdf[\"state\"] == \"successful\"].groupby([\"category\"])[['state']].count().reset_index()\n",
    "canceled_df = initdf[initdf[\"state\"] == \"canceled\"].groupby([\"category\"])[['state']].count().reset_index()\n",
    "live_df = initdf[initdf[\"state\"] == \"live\"].groupby([\"category\"])[['state']].count().reset_index()\n",
    "suspended_df = initdf[initdf[\"state\"] == \"suspended\"].groupby([\"category\"])[['state']].count().reset_index()"
   ]
  },
  {
   "cell_type": "markdown",
   "metadata": {
    "pycharm": {
     "name": "#%% md\n"
    }
   },
   "source": [
    "### CREATING DEFAULT DICTIONARY FOR STATES"
   ]
  },
  {
   "cell_type": "code",
   "execution_count": 34,
   "metadata": {
    "pycharm": {
     "name": "#%%\n"
    },
    "scrolled": true
   },
   "outputs": [],
   "source": [
    "\n",
    "\n",
    "categories_dict = {\n",
    "    'Academic':0,\n",
    "    'Places':0,\n",
    "    'Uncategorized':0,\n",
    "    'Blues':0,\n",
    "    'Restaurants':0,\n",
    "    'Webseries':0, \n",
    "    'Thrillers':0, \n",
    "    'Shorts':0, \n",
    "    'Web':0, \n",
    "    'Apps':0, \n",
    "    'Gadgets':0,\n",
    "    'Hardware':0, \n",
    "    'Festivals':0, \n",
    "    'Plays':0, \n",
    "    'Musical':0, \n",
    "    'Flight':0, \n",
    "    'Spaces':0,\n",
    "    'Immersive':0, \n",
    "    'Experimental':0, \n",
    "    'Comedy':0, \n",
    "    'Wearables':0, \n",
    "    'Sound':0,\n",
    "    'Software':0, \n",
    "    'Robots':0, \n",
    "    'Makerspaces':0\n",
    "}"
   ]
  },
  {
   "cell_type": "code",
   "execution_count": 35,
   "metadata": {
    "pycharm": {
     "name": "#%%\n"
    }
   },
   "outputs": [],
   "source": [
    "#    METHOD TO RETURN SERIES PER STATE FOR VISUALIZATION\n",
    "def populating_state_series(df):\n",
    "\n",
    "    shallow_copy = categories_dict.copy()\n",
    "    for i in range(len(df)):\n",
    "        if df['category'][i] in shallow_copy:\n",
    "            shallow_copy[df['category'][i]] = df['state'][i]\n",
    "#     print(shallow_copy)\n",
    "    return list(shallow_copy.values())"
   ]
  },
  {
   "cell_type": "code",
   "execution_count": 36,
   "metadata": {
    "pycharm": {
     "name": "#%%\n"
    }
   },
   "outputs": [],
   "source": [
    "# VALIDATION TEST CELL -------------------------------------------------------------------------------------------------\n",
    "\n",
    "# categories_dict"
   ]
  },
  {
   "cell_type": "code",
   "execution_count": 37,
   "metadata": {
    "pycharm": {
     "name": "#%%\n"
    }
   },
   "outputs": [],
   "source": [
    "# CALLING METHOD TO RETURN SERIES PER STATE FOR VISUALIZATION\n",
    "\n",
    "categories = list(categories_dict.keys())\n",
    "failed = populating_state_series(failed_df)\n",
    "successful = populating_state_series(successful_df)\n",
    "canceled = populating_state_series(canceled_df)\n",
    "live = populating_state_series(live_df)\n",
    "suspended = populating_state_series(suspended_df)"
   ]
  },
  {
   "cell_type": "code",
   "execution_count": 38,
   "metadata": {
    "pycharm": {
     "name": "#%%\n"
    }
   },
   "outputs": [],
   "source": [
    "# VALIDATION TEST CELL -------------------------------------------------------------------------------------------------\n",
    "\n",
    "\n",
    "# print(categories)\n",
    "# print(successful)\n",
    "# print(failed)\n",
    "# print(canceled)\n",
    "# print(live)\n",
    "# print(suspended)\n"
   ]
  },
  {
   "cell_type": "code",
   "execution_count": 39,
   "metadata": {
    "pycharm": {
     "name": "#%%\n"
    }
   },
   "outputs": [],
   "source": [
    "# VALIDATION TEST CELL -------------------------------------------------------------------------------------------------\n",
    "\n",
    "\n",
    "# print(len(canceled), len(successful), len(live), len(suspended), len(failed))\n",
    "# states = list(initdf[\"state\"].unique())\n",
    "# print(states)"
   ]
  },
  {
   "cell_type": "markdown",
   "metadata": {
    "pycharm": {
     "name": "#%% md\n"
    }
   },
   "source": [
    "# 4. VISUALISATIONS"
   ]
  },
  {
   "cell_type": "markdown",
   "metadata": {
    "pycharm": {
     "name": "#%% md\n"
    }
   },
   "source": [
    "## 4.1 BAR CHART "
   ]
  },
  {
   "cell_type": "code",
   "execution_count": 40,
   "metadata": {
    "pycharm": {
     "name": "#%%\n"
    }
   },
   "outputs": [
    {
     "data": {
      "text/html": [
       "\n",
       "    <div class=\"bk-root\">\n",
       "        <a href=\"https://bokeh.org\" target=\"_blank\" class=\"bk-logo bk-logo-small bk-logo-notebook\"></a>\n",
       "        <span id=\"1002\">Loading BokehJS ...</span>\n",
       "    </div>"
      ]
     },
     "metadata": {},
     "output_type": "display_data"
    },
    {
     "data": {
      "application/javascript": "\n(function(root) {\n  function now() {\n    return new Date();\n  }\n\n  const force = true;\n\n  if (typeof root._bokeh_onload_callbacks === \"undefined\" || force === true) {\n    root._bokeh_onload_callbacks = [];\n    root._bokeh_is_loading = undefined;\n  }\n\n  const JS_MIME_TYPE = 'application/javascript';\n  const HTML_MIME_TYPE = 'text/html';\n  const EXEC_MIME_TYPE = 'application/vnd.bokehjs_exec.v0+json';\n  const CLASS_NAME = 'output_bokeh rendered_html';\n\n  /**\n   * Render data to the DOM node\n   */\n  function render(props, node) {\n    const script = document.createElement(\"script\");\n    node.appendChild(script);\n  }\n\n  /**\n   * Handle when an output is cleared or removed\n   */\n  function handleClearOutput(event, handle) {\n    const cell = handle.cell;\n\n    const id = cell.output_area._bokeh_element_id;\n    const server_id = cell.output_area._bokeh_server_id;\n    // Clean up Bokeh references\n    if (id != null && id in Bokeh.index) {\n      Bokeh.index[id].model.document.clear();\n      delete Bokeh.index[id];\n    }\n\n    if (server_id !== undefined) {\n      // Clean up Bokeh references\n      const cmd_clean = \"from bokeh.io.state import curstate; print(curstate().uuid_to_server['\" + server_id + \"'].get_sessions()[0].document.roots[0]._id)\";\n      cell.notebook.kernel.execute(cmd_clean, {\n        iopub: {\n          output: function(msg) {\n            const id = msg.content.text.trim();\n            if (id in Bokeh.index) {\n              Bokeh.index[id].model.document.clear();\n              delete Bokeh.index[id];\n            }\n          }\n        }\n      });\n      // Destroy server and session\n      const cmd_destroy = \"import bokeh.io.notebook as ion; ion.destroy_server('\" + server_id + \"')\";\n      cell.notebook.kernel.execute(cmd_destroy);\n    }\n  }\n\n  /**\n   * Handle when a new output is added\n   */\n  function handleAddOutput(event, handle) {\n    const output_area = handle.output_area;\n    const output = handle.output;\n\n    // limit handleAddOutput to display_data with EXEC_MIME_TYPE content only\n    if ((output.output_type != \"display_data\") || (!Object.prototype.hasOwnProperty.call(output.data, EXEC_MIME_TYPE))) {\n      return\n    }\n\n    const toinsert = output_area.element.find(\".\" + CLASS_NAME.split(' ')[0]);\n\n    if (output.metadata[EXEC_MIME_TYPE][\"id\"] !== undefined) {\n      toinsert[toinsert.length - 1].firstChild.textContent = output.data[JS_MIME_TYPE];\n      // store reference to embed id on output_area\n      output_area._bokeh_element_id = output.metadata[EXEC_MIME_TYPE][\"id\"];\n    }\n    if (output.metadata[EXEC_MIME_TYPE][\"server_id\"] !== undefined) {\n      const bk_div = document.createElement(\"div\");\n      bk_div.innerHTML = output.data[HTML_MIME_TYPE];\n      const script_attrs = bk_div.children[0].attributes;\n      for (let i = 0; i < script_attrs.length; i++) {\n        toinsert[toinsert.length - 1].firstChild.setAttribute(script_attrs[i].name, script_attrs[i].value);\n        toinsert[toinsert.length - 1].firstChild.textContent = bk_div.children[0].textContent\n      }\n      // store reference to server id on output_area\n      output_area._bokeh_server_id = output.metadata[EXEC_MIME_TYPE][\"server_id\"];\n    }\n  }\n\n  function register_renderer(events, OutputArea) {\n\n    function append_mime(data, metadata, element) {\n      // create a DOM node to render to\n      const toinsert = this.create_output_subarea(\n        metadata,\n        CLASS_NAME,\n        EXEC_MIME_TYPE\n      );\n      this.keyboard_manager.register_events(toinsert);\n      // Render to node\n      const props = {data: data, metadata: metadata[EXEC_MIME_TYPE]};\n      render(props, toinsert[toinsert.length - 1]);\n      element.append(toinsert);\n      return toinsert\n    }\n\n    /* Handle when an output is cleared or removed */\n    events.on('clear_output.CodeCell', handleClearOutput);\n    events.on('delete.Cell', handleClearOutput);\n\n    /* Handle when a new output is added */\n    events.on('output_added.OutputArea', handleAddOutput);\n\n    /**\n     * Register the mime type and append_mime function with output_area\n     */\n    OutputArea.prototype.register_mime_type(EXEC_MIME_TYPE, append_mime, {\n      /* Is output safe? */\n      safe: true,\n      /* Index of renderer in `output_area.display_order` */\n      index: 0\n    });\n  }\n\n  // register the mime type if in Jupyter Notebook environment and previously unregistered\n  if (root.Jupyter !== undefined) {\n    const events = require('base/js/events');\n    const OutputArea = require('notebook/js/outputarea').OutputArea;\n\n    if (OutputArea.prototype.mime_types().indexOf(EXEC_MIME_TYPE) == -1) {\n      register_renderer(events, OutputArea);\n    }\n  }\n\n  \n  if (typeof (root._bokeh_timeout) === \"undefined\" || force === true) {\n    root._bokeh_timeout = Date.now() + 5000;\n    root._bokeh_failed_load = false;\n  }\n\n  const NB_LOAD_WARNING = {'data': {'text/html':\n     \"<div style='background-color: #fdd'>\\n\"+\n     \"<p>\\n\"+\n     \"BokehJS does not appear to have successfully loaded. If loading BokehJS from CDN, this \\n\"+\n     \"may be due to a slow or bad network connection. Possible fixes:\\n\"+\n     \"</p>\\n\"+\n     \"<ul>\\n\"+\n     \"<li>re-rerun `output_notebook()` to attempt to load from CDN again, or</li>\\n\"+\n     \"<li>use INLINE resources instead, as so:</li>\\n\"+\n     \"</ul>\\n\"+\n     \"<code>\\n\"+\n     \"from bokeh.resources import INLINE\\n\"+\n     \"output_notebook(resources=INLINE)\\n\"+\n     \"</code>\\n\"+\n     \"</div>\"}};\n\n  function display_loaded() {\n    const el = document.getElementById(\"1002\");\n    if (el != null) {\n      el.textContent = \"BokehJS is loading...\";\n    }\n    if (root.Bokeh !== undefined) {\n      if (el != null) {\n        el.textContent = \"BokehJS \" + root.Bokeh.version + \" successfully loaded.\";\n      }\n    } else if (Date.now() < root._bokeh_timeout) {\n      setTimeout(display_loaded, 100)\n    }\n  }\n\n\n  function run_callbacks() {\n    try {\n      root._bokeh_onload_callbacks.forEach(function(callback) {\n        if (callback != null)\n          callback();\n      });\n    } finally {\n      delete root._bokeh_onload_callbacks\n    }\n    console.debug(\"Bokeh: all callbacks have finished\");\n  }\n\n  function load_libs(css_urls, js_urls, callback) {\n    if (css_urls == null) css_urls = [];\n    if (js_urls == null) js_urls = [];\n\n    root._bokeh_onload_callbacks.push(callback);\n    if (root._bokeh_is_loading > 0) {\n      console.debug(\"Bokeh: BokehJS is being loaded, scheduling callback at\", now());\n      return null;\n    }\n    if (js_urls == null || js_urls.length === 0) {\n      run_callbacks();\n      return null;\n    }\n    console.debug(\"Bokeh: BokehJS not loaded, scheduling load and callback at\", now());\n    root._bokeh_is_loading = css_urls.length + js_urls.length;\n\n    function on_load() {\n      root._bokeh_is_loading--;\n      if (root._bokeh_is_loading === 0) {\n        console.debug(\"Bokeh: all BokehJS libraries/stylesheets loaded\");\n        run_callbacks()\n      }\n    }\n\n    function on_error(url) {\n      console.error(\"failed to load \" + url);\n    }\n\n    for (let i = 0; i < css_urls.length; i++) {\n      const url = css_urls[i];\n      const element = document.createElement(\"link\");\n      element.onload = on_load;\n      element.onerror = on_error.bind(null, url);\n      element.rel = \"stylesheet\";\n      element.type = \"text/css\";\n      element.href = url;\n      console.debug(\"Bokeh: injecting link tag for BokehJS stylesheet: \", url);\n      document.body.appendChild(element);\n    }\n\n    for (let i = 0; i < js_urls.length; i++) {\n      const url = js_urls[i];\n      const element = document.createElement('script');\n      element.onload = on_load;\n      element.onerror = on_error.bind(null, url);\n      element.async = false;\n      element.src = url;\n      console.debug(\"Bokeh: injecting script tag for BokehJS library: \", url);\n      document.head.appendChild(element);\n    }\n  };\n\n  function inject_raw_css(css) {\n    const element = document.createElement(\"style\");\n    element.appendChild(document.createTextNode(css));\n    document.body.appendChild(element);\n  }\n\n  \n  const js_urls = [\"https://cdn.bokeh.org/bokeh/release/bokeh-2.4.2.min.js\", \"https://cdn.bokeh.org/bokeh/release/bokeh-gl-2.4.2.min.js\", \"https://cdn.bokeh.org/bokeh/release/bokeh-widgets-2.4.2.min.js\", \"https://cdn.bokeh.org/bokeh/release/bokeh-tables-2.4.2.min.js\", \"https://cdn.bokeh.org/bokeh/release/bokeh-mathjax-2.4.2.min.js\"];\n  const css_urls = [];\n  \n\n  const inline_js = [\n    function(Bokeh) {\n      Bokeh.set_log_level(\"info\");\n    },\n    function(Bokeh) {\n    \n    \n    }\n  ];\n\n  function run_inline_js() {\n    \n    if (root.Bokeh !== undefined || force === true) {\n      \n    for (let i = 0; i < inline_js.length; i++) {\n      inline_js[i].call(root, root.Bokeh);\n    }\n    if (force === true) {\n        display_loaded();\n      }} else if (Date.now() < root._bokeh_timeout) {\n      setTimeout(run_inline_js, 100);\n    } else if (!root._bokeh_failed_load) {\n      console.log(\"Bokeh: BokehJS failed to load within specified timeout.\");\n      root._bokeh_failed_load = true;\n    } else if (force !== true) {\n      const cell = $(document.getElementById(\"1002\")).parents('.cell').data().cell;\n      cell.output_area.append_execute_result(NB_LOAD_WARNING)\n    }\n\n  }\n\n  if (root._bokeh_is_loading === 0) {\n    console.debug(\"Bokeh: BokehJS loaded, going straight to plotting\");\n    run_inline_js();\n  } else {\n    load_libs(css_urls, js_urls, function() {\n      console.debug(\"Bokeh: BokehJS plotting callback run at\", now());\n      run_inline_js();\n    });\n  }\n}(window));",
      "application/vnd.bokehjs_load.v0+json": ""
     },
     "metadata": {},
     "output_type": "display_data"
    },
    {
     "data": {
      "text/html": [
       "\n",
       "\n",
       "\n",
       "\n",
       "\n",
       "\n",
       "  <div class=\"bk-root\" id=\"b47630c1-4252-4691-b1ab-f21cfe6e596b\" data-root-id=\"1003\"></div>\n"
      ]
     },
     "metadata": {},
     "output_type": "display_data"
    },
    {
     "data": {
      "application/javascript": "(function(root) {\n  function embed_document(root) {\n    \n  const docs_json = {\"6eb19d61-9c6a-407a-9231-6136ff4dcd64\":{\"defs\":[],\"roots\":{\"references\":[{\"attributes\":{\"below\":[{\"id\":\"1014\"}],\"center\":[{\"id\":\"1016\"},{\"id\":\"1020\"},{\"id\":\"1050\"}],\"height\":500,\"left\":[{\"id\":\"1017\"}],\"outline_line_color\":null,\"renderers\":[{\"id\":\"1039\"},{\"id\":\"1057\"},{\"id\":\"1076\"},{\"id\":\"1097\"},{\"id\":\"1120\"}],\"title\":{\"id\":\"1004\"},\"toolbar\":{\"id\":\"1022\"},\"toolbar_location\":null,\"x_range\":{\"id\":\"1006\"},\"x_scale\":{\"id\":\"1010\"},\"y_range\":{\"id\":\"1008\"},\"y_scale\":{\"id\":\"1012\"}},\"id\":\"1003\",\"subtype\":\"Figure\",\"type\":\"Plot\"},{\"attributes\":{\"source\":{\"id\":\"1071\"}},\"id\":\"1077\",\"type\":\"CDSView\"},{\"attributes\":{\"start\":0},\"id\":\"1008\",\"type\":\"DataRange1d\"},{\"attributes\":{\"coordinates\":null,\"group\":null,\"items\":[{\"id\":\"1051\"},{\"id\":\"1070\"},{\"id\":\"1091\"},{\"id\":\"1114\"},{\"id\":\"1139\"}],\"location\":\"top_left\",\"orientation\":\"horizontal\"},\"id\":\"1050\",\"type\":\"Legend\"},{\"attributes\":{\"fields\":[\"failed\",\"canceled\",\"successful\"]},\"id\":\"1029\",\"type\":\"Stack\"},{\"attributes\":{\"data\":{\"canceled\":[0,0,176,0,20,0,0,0,519,0,357,413,28,65,63,50,15,22,22,2,173,80,372,54,24],\"categories\":[\"Academic\",\"Places\",\"Uncategorized\",\"Blues\",\"Restaurants\",\"Webseries\",\"Thrillers\",\"Shorts\",\"Web\",\"Apps\",\"Gadgets\",\"Hardware\",\"Festivals\",\"Plays\",\"Musical\",\"Flight\",\"Spaces\",\"Immersive\",\"Experimental\",\"Comedy\",\"Wearables\",\"Sound\",\"Software\",\"Robots\",\"Makerspaces\"],\"failed\":[20,100,849,0,0,20,20,0,2502,734,1199,1669,155,415,305,241,78,106,116,0,462,223,1876,222,104],\"live\":[0,0,43,2,0,0,0,0,58,124,61,46,7,23,16,6,6,4,4,7,33,13,38,9,8],\"successful\":[0,0,798,18,0,0,0,40,222,310,631,1078,291,681,406,66,82,140,177,1,289,205,337,180,66],\"suspended\":[0,0,23,0,0,0,0,0,23,0,88,41,1,0,1,10,0,5,2,0,14,6,7,8,1]},\"selected\":{\"id\":\"1113\"},\"selection_policy\":{\"id\":\"1112\"}},\"id\":\"1092\",\"type\":\"ColumnDataSource\"},{\"attributes\":{},\"id\":\"1090\",\"type\":\"Selection\"},{\"attributes\":{\"label\":{\"value\":\"successful\"},\"renderers\":[{\"id\":\"1076\"}]},\"id\":\"1091\",\"type\":\"LegendItem\"},{\"attributes\":{\"bottom\":{\"expr\":{\"id\":\"1026\"}},\"fill_color\":{\"value\":\"red\"},\"hatch_color\":{\"value\":\"red\"},\"line_color\":{\"value\":\"red\"},\"top\":{\"expr\":{\"id\":\"1027\"}},\"width\":{\"value\":0.9},\"x\":{\"field\":\"categories\"}},\"id\":\"1054\",\"type\":\"VBar\"},{\"attributes\":{\"fields\":[\"failed\",\"canceled\",\"successful\",\"live\"]},\"id\":\"1032\",\"type\":\"Stack\"},{\"attributes\":{\"bottom\":{\"expr\":{\"id\":\"1030\"}},\"fill_color\":{\"value\":\"blue\"},\"hatch_color\":{\"value\":\"blue\"},\"line_color\":{\"value\":\"blue\"},\"top\":{\"expr\":{\"id\":\"1031\"}},\"width\":{\"value\":0.9},\"x\":{\"field\":\"categories\"}},\"id\":\"1094\",\"type\":\"VBar\"},{\"attributes\":{\"data\":{\"canceled\":[0,0,176,0,20,0,0,0,519,0,357,413,28,65,63,50,15,22,22,2,173,80,372,54,24],\"categories\":[\"Academic\",\"Places\",\"Uncategorized\",\"Blues\",\"Restaurants\",\"Webseries\",\"Thrillers\",\"Shorts\",\"Web\",\"Apps\",\"Gadgets\",\"Hardware\",\"Festivals\",\"Plays\",\"Musical\",\"Flight\",\"Spaces\",\"Immersive\",\"Experimental\",\"Comedy\",\"Wearables\",\"Sound\",\"Software\",\"Robots\",\"Makerspaces\"],\"failed\":[20,100,849,0,0,20,20,0,2502,734,1199,1669,155,415,305,241,78,106,116,0,462,223,1876,222,104],\"live\":[0,0,43,2,0,0,0,0,58,124,61,46,7,23,16,6,6,4,4,7,33,13,38,9,8],\"successful\":[0,0,798,18,0,0,0,40,222,310,631,1078,291,681,406,66,82,140,177,1,289,205,337,180,66],\"suspended\":[0,0,23,0,0,0,0,0,23,0,88,41,1,0,1,10,0,5,2,0,14,6,7,8,1]},\"selected\":{\"id\":\"1138\"},\"selection_policy\":{\"id\":\"1137\"}},\"id\":\"1115\",\"type\":\"ColumnDataSource\"},{\"attributes\":{\"fields\":[]},\"id\":\"1024\",\"type\":\"Stack\"},{\"attributes\":{\"bottom\":{\"expr\":{\"id\":\"1030\"}},\"fill_alpha\":{\"value\":0.1},\"fill_color\":{\"value\":\"blue\"},\"hatch_alpha\":{\"value\":0.1},\"hatch_color\":{\"value\":\"blue\"},\"line_alpha\":{\"value\":0.1},\"line_color\":{\"value\":\"blue\"},\"top\":{\"expr\":{\"id\":\"1031\"}},\"width\":{\"value\":0.9},\"x\":{\"field\":\"categories\"}},\"id\":\"1095\",\"type\":\"VBar\"},{\"attributes\":{\"source\":{\"id\":\"1034\"}},\"id\":\"1040\",\"type\":\"CDSView\"},{\"attributes\":{\"fields\":[\"failed\",\"canceled\",\"successful\",\"live\",\"suspended\"]},\"id\":\"1033\",\"type\":\"Stack\"},{\"attributes\":{\"data\":{\"canceled\":[0,0,176,0,20,0,0,0,519,0,357,413,28,65,63,50,15,22,22,2,173,80,372,54,24],\"categories\":[\"Academic\",\"Places\",\"Uncategorized\",\"Blues\",\"Restaurants\",\"Webseries\",\"Thrillers\",\"Shorts\",\"Web\",\"Apps\",\"Gadgets\",\"Hardware\",\"Festivals\",\"Plays\",\"Musical\",\"Flight\",\"Spaces\",\"Immersive\",\"Experimental\",\"Comedy\",\"Wearables\",\"Sound\",\"Software\",\"Robots\",\"Makerspaces\"],\"failed\":[20,100,849,0,0,20,20,0,2502,734,1199,1669,155,415,305,241,78,106,116,0,462,223,1876,222,104],\"live\":[0,0,43,2,0,0,0,0,58,124,61,46,7,23,16,6,6,4,4,7,33,13,38,9,8],\"successful\":[0,0,798,18,0,0,0,40,222,310,631,1078,291,681,406,66,82,140,177,1,289,205,337,180,66],\"suspended\":[0,0,23,0,0,0,0,0,23,0,88,41,1,0,1,10,0,5,2,0,14,6,7,8,1]},\"selected\":{\"id\":\"1049\"},\"selection_policy\":{\"id\":\"1048\"}},\"id\":\"1034\",\"type\":\"ColumnDataSource\"},{\"attributes\":{},\"id\":\"1044\",\"type\":\"AllLabels\"},{\"attributes\":{},\"id\":\"1089\",\"type\":\"UnionRenderers\"},{\"attributes\":{\"tools\":[{\"id\":\"1021\"}]},\"id\":\"1022\",\"type\":\"Toolbar\"},{\"attributes\":{\"label\":{\"value\":\"canceled\"},\"renderers\":[{\"id\":\"1057\"}]},\"id\":\"1070\",\"type\":\"LegendItem\"},{\"attributes\":{\"bottom\":{\"expr\":{\"id\":\"1030\"}},\"fill_alpha\":{\"value\":0.2},\"fill_color\":{\"value\":\"blue\"},\"hatch_alpha\":{\"value\":0.2},\"hatch_color\":{\"value\":\"blue\"},\"line_alpha\":{\"value\":0.2},\"line_color\":{\"value\":\"blue\"},\"top\":{\"expr\":{\"id\":\"1031\"}},\"width\":{\"value\":0.9},\"x\":{\"field\":\"categories\"}},\"id\":\"1096\",\"type\":\"VBar\"},{\"attributes\":{},\"id\":\"1069\",\"type\":\"Selection\"},{\"attributes\":{\"fields\":[\"failed\",\"canceled\",\"successful\",\"live\"]},\"id\":\"1031\",\"type\":\"Stack\"},{\"attributes\":{\"label\":{\"value\":\"live\"},\"renderers\":[{\"id\":\"1097\"}]},\"id\":\"1114\",\"type\":\"LegendItem\"},{\"attributes\":{\"bottom\":{\"expr\":{\"id\":\"1024\"}},\"fill_alpha\":{\"value\":0.1},\"fill_color\":{\"value\":\"orange\"},\"hatch_alpha\":{\"value\":0.1},\"hatch_color\":{\"value\":\"orange\"},\"line_alpha\":{\"value\":0.1},\"line_color\":{\"value\":\"orange\"},\"top\":{\"expr\":{\"id\":\"1025\"}},\"width\":{\"value\":0.9},\"x\":{\"field\":\"categories\"}},\"id\":\"1037\",\"type\":\"VBar\"},{\"attributes\":{},\"id\":\"1046\",\"type\":\"CategoricalTickFormatter\"},{\"attributes\":{\"bottom\":{\"expr\":{\"id\":\"1032\"}},\"fill_alpha\":{\"value\":0.2},\"fill_color\":{\"value\":\"silver\"},\"hatch_alpha\":{\"value\":0.2},\"hatch_color\":{\"value\":\"silver\"},\"line_alpha\":{\"value\":0.2},\"line_color\":{\"value\":\"silver\"},\"top\":{\"expr\":{\"id\":\"1033\"}},\"width\":{\"value\":0.9},\"x\":{\"field\":\"categories\"}},\"id\":\"1119\",\"type\":\"VBar\"},{\"attributes\":{\"fields\":[\"failed\"]},\"id\":\"1026\",\"type\":\"Stack\"},{\"attributes\":{\"bottom\":{\"expr\":{\"id\":\"1026\"}},\"fill_alpha\":{\"value\":0.2},\"fill_color\":{\"value\":\"red\"},\"hatch_alpha\":{\"value\":0.2},\"hatch_color\":{\"value\":\"red\"},\"line_alpha\":{\"value\":0.2},\"line_color\":{\"value\":\"red\"},\"top\":{\"expr\":{\"id\":\"1027\"}},\"width\":{\"value\":0.9},\"x\":{\"field\":\"categories\"}},\"id\":\"1056\",\"type\":\"VBar\"},{\"attributes\":{\"bottom\":{\"expr\":{\"id\":\"1032\"}},\"fill_alpha\":{\"value\":0.1},\"fill_color\":{\"value\":\"silver\"},\"hatch_alpha\":{\"value\":0.1},\"hatch_color\":{\"value\":\"silver\"},\"line_alpha\":{\"value\":0.1},\"line_color\":{\"value\":\"silver\"},\"top\":{\"expr\":{\"id\":\"1033\"}},\"width\":{\"value\":0.9},\"x\":{\"field\":\"categories\"}},\"id\":\"1118\",\"type\":\"VBar\"},{\"attributes\":{\"coordinates\":null,\"data_source\":{\"id\":\"1115\"},\"glyph\":{\"id\":\"1117\"},\"group\":null,\"hover_glyph\":null,\"muted_glyph\":{\"id\":\"1119\"},\"name\":\"suspended\",\"nonselection_glyph\":{\"id\":\"1118\"},\"view\":{\"id\":\"1121\"}},\"id\":\"1120\",\"type\":\"GlyphRenderer\"},{\"attributes\":{\"bottom\":{\"expr\":{\"id\":\"1024\"}},\"fill_alpha\":{\"value\":0.2},\"fill_color\":{\"value\":\"orange\"},\"hatch_alpha\":{\"value\":0.2},\"hatch_color\":{\"value\":\"orange\"},\"line_alpha\":{\"value\":0.2},\"line_color\":{\"value\":\"orange\"},\"top\":{\"expr\":{\"id\":\"1025\"}},\"width\":{\"value\":0.9},\"x\":{\"field\":\"categories\"}},\"id\":\"1038\",\"type\":\"VBar\"},{\"attributes\":{},\"id\":\"1113\",\"type\":\"Selection\"},{\"attributes\":{\"fields\":[\"failed\"]},\"id\":\"1025\",\"type\":\"Stack\"},{\"attributes\":{\"fields\":[\"failed\",\"canceled\"]},\"id\":\"1028\",\"type\":\"Stack\"},{\"attributes\":{},\"id\":\"1112\",\"type\":\"UnionRenderers\"},{\"attributes\":{\"fields\":[\"failed\",\"canceled\",\"successful\"]},\"id\":\"1030\",\"type\":\"Stack\"},{\"attributes\":{},\"id\":\"1048\",\"type\":\"UnionRenderers\"},{\"attributes\":{\"coordinates\":null,\"data_source\":{\"id\":\"1052\"},\"glyph\":{\"id\":\"1054\"},\"group\":null,\"hover_glyph\":null,\"muted_glyph\":{\"id\":\"1056\"},\"name\":\"canceled\",\"nonselection_glyph\":{\"id\":\"1055\"},\"view\":{\"id\":\"1058\"}},\"id\":\"1057\",\"type\":\"GlyphRenderer\"},{\"attributes\":{\"bottom\":{\"expr\":{\"id\":\"1024\"}},\"fill_color\":{\"value\":\"orange\"},\"hatch_color\":{\"value\":\"orange\"},\"line_color\":{\"value\":\"orange\"},\"top\":{\"expr\":{\"id\":\"1025\"}},\"width\":{\"value\":0.9},\"x\":{\"field\":\"categories\"}},\"id\":\"1036\",\"type\":\"VBar\"},{\"attributes\":{},\"id\":\"1043\",\"type\":\"BasicTickFormatter\"},{\"attributes\":{\"source\":{\"id\":\"1092\"}},\"id\":\"1098\",\"type\":\"CDSView\"},{\"attributes\":{\"source\":{\"id\":\"1115\"}},\"id\":\"1121\",\"type\":\"CDSView\"},{\"attributes\":{},\"id\":\"1010\",\"type\":\"CategoricalScale\"},{\"attributes\":{\"coordinates\":null,\"data_source\":{\"id\":\"1034\"},\"glyph\":{\"id\":\"1036\"},\"group\":null,\"hover_glyph\":null,\"muted_glyph\":{\"id\":\"1038\"},\"name\":\"failed\",\"nonselection_glyph\":{\"id\":\"1037\"},\"view\":{\"id\":\"1040\"}},\"id\":\"1039\",\"type\":\"GlyphRenderer\"},{\"attributes\":{},\"id\":\"1049\",\"type\":\"Selection\"},{\"attributes\":{\"label\":{\"value\":\"suspended\"},\"renderers\":[{\"id\":\"1120\"}]},\"id\":\"1139\",\"type\":\"LegendItem\"},{\"attributes\":{},\"id\":\"1012\",\"type\":\"LinearScale\"},{\"attributes\":{},\"id\":\"1137\",\"type\":\"UnionRenderers\"},{\"attributes\":{\"axis_label\":\"Categories\",\"coordinates\":null,\"formatter\":{\"id\":\"1046\"},\"group\":null,\"major_label_orientation\":\"vertical\",\"major_label_policy\":{\"id\":\"1047\"},\"minor_tick_line_color\":null,\"ticker\":{\"id\":\"1015\"}},\"id\":\"1014\",\"type\":\"CategoricalAxis\"},{\"attributes\":{\"bottom\":{\"expr\":{\"id\":\"1032\"}},\"fill_color\":{\"value\":\"silver\"},\"hatch_color\":{\"value\":\"silver\"},\"line_color\":{\"value\":\"silver\"},\"top\":{\"expr\":{\"id\":\"1033\"}},\"width\":{\"value\":0.9},\"x\":{\"field\":\"categories\"}},\"id\":\"1117\",\"type\":\"VBar\"},{\"attributes\":{\"axis\":{\"id\":\"1014\"},\"coordinates\":null,\"grid_line_color\":null,\"group\":null,\"ticker\":null},\"id\":\"1016\",\"type\":\"Grid\"},{\"attributes\":{\"source\":{\"id\":\"1052\"}},\"id\":\"1058\",\"type\":\"CDSView\"},{\"attributes\":{},\"id\":\"1138\",\"type\":\"Selection\"},{\"attributes\":{\"bottom\":{\"expr\":{\"id\":\"1028\"}},\"fill_color\":{\"value\":\"green\"},\"hatch_color\":{\"value\":\"green\"},\"line_color\":{\"value\":\"green\"},\"top\":{\"expr\":{\"id\":\"1029\"}},\"width\":{\"value\":0.9},\"x\":{\"field\":\"categories\"}},\"id\":\"1073\",\"type\":\"VBar\"},{\"attributes\":{},\"id\":\"1015\",\"type\":\"CategoricalTicker\"},{\"attributes\":{\"bottom\":{\"expr\":{\"id\":\"1028\"}},\"fill_alpha\":{\"value\":0.1},\"fill_color\":{\"value\":\"green\"},\"hatch_alpha\":{\"value\":0.1},\"hatch_color\":{\"value\":\"green\"},\"line_alpha\":{\"value\":0.1},\"line_color\":{\"value\":\"green\"},\"top\":{\"expr\":{\"id\":\"1029\"}},\"width\":{\"value\":0.9},\"x\":{\"field\":\"categories\"}},\"id\":\"1074\",\"type\":\"VBar\"},{\"attributes\":{},\"id\":\"1068\",\"type\":\"UnionRenderers\"},{\"attributes\":{},\"id\":\"1018\",\"type\":\"BasicTicker\"},{\"attributes\":{\"factors\":[\"Academic\",\"Places\",\"Uncategorized\",\"Blues\",\"Restaurants\",\"Webseries\",\"Thrillers\",\"Shorts\",\"Web\",\"Apps\",\"Gadgets\",\"Hardware\",\"Festivals\",\"Plays\",\"Musical\",\"Flight\",\"Spaces\",\"Immersive\",\"Experimental\",\"Comedy\",\"Wearables\",\"Sound\",\"Software\",\"Robots\",\"Makerspaces\"],\"range_padding\":0.1},\"id\":\"1006\",\"type\":\"FactorRange\"},{\"attributes\":{\"data\":{\"canceled\":[0,0,176,0,20,0,0,0,519,0,357,413,28,65,63,50,15,22,22,2,173,80,372,54,24],\"categories\":[\"Academic\",\"Places\",\"Uncategorized\",\"Blues\",\"Restaurants\",\"Webseries\",\"Thrillers\",\"Shorts\",\"Web\",\"Apps\",\"Gadgets\",\"Hardware\",\"Festivals\",\"Plays\",\"Musical\",\"Flight\",\"Spaces\",\"Immersive\",\"Experimental\",\"Comedy\",\"Wearables\",\"Sound\",\"Software\",\"Robots\",\"Makerspaces\"],\"failed\":[20,100,849,0,0,20,20,0,2502,734,1199,1669,155,415,305,241,78,106,116,0,462,223,1876,222,104],\"live\":[0,0,43,2,0,0,0,0,58,124,61,46,7,23,16,6,6,4,4,7,33,13,38,9,8],\"successful\":[0,0,798,18,0,0,0,40,222,310,631,1078,291,681,406,66,82,140,177,1,289,205,337,180,66],\"suspended\":[0,0,23,0,0,0,0,0,23,0,88,41,1,0,1,10,0,5,2,0,14,6,7,8,1]},\"selected\":{\"id\":\"1069\"},\"selection_policy\":{\"id\":\"1068\"}},\"id\":\"1052\",\"type\":\"ColumnDataSource\"},{\"attributes\":{\"coordinates\":null,\"data_source\":{\"id\":\"1071\"},\"glyph\":{\"id\":\"1073\"},\"group\":null,\"hover_glyph\":null,\"muted_glyph\":{\"id\":\"1075\"},\"name\":\"successful\",\"nonselection_glyph\":{\"id\":\"1074\"},\"view\":{\"id\":\"1077\"}},\"id\":\"1076\",\"type\":\"GlyphRenderer\"},{\"attributes\":{\"axis_label\":\"No.of Kickstarters\",\"coordinates\":null,\"formatter\":{\"id\":\"1043\"},\"group\":null,\"major_label_policy\":{\"id\":\"1044\"},\"minor_tick_line_color\":null,\"ticker\":{\"id\":\"1018\"}},\"id\":\"1017\",\"type\":\"LinearAxis\"},{\"attributes\":{\"bottom\":{\"expr\":{\"id\":\"1028\"}},\"fill_alpha\":{\"value\":0.2},\"fill_color\":{\"value\":\"green\"},\"hatch_alpha\":{\"value\":0.2},\"hatch_color\":{\"value\":\"green\"},\"line_alpha\":{\"value\":0.2},\"line_color\":{\"value\":\"green\"},\"top\":{\"expr\":{\"id\":\"1029\"}},\"width\":{\"value\":0.9},\"x\":{\"field\":\"categories\"}},\"id\":\"1075\",\"type\":\"VBar\"},{\"attributes\":{\"coordinates\":null,\"group\":null,\"text\":\"States of Kicstarter by Categories\"},\"id\":\"1004\",\"type\":\"Title\"},{\"attributes\":{\"label\":{\"value\":\"failed\"},\"renderers\":[{\"id\":\"1039\"}]},\"id\":\"1051\",\"type\":\"LegendItem\"},{\"attributes\":{\"axis\":{\"id\":\"1017\"},\"coordinates\":null,\"dimension\":1,\"group\":null,\"ticker\":null},\"id\":\"1020\",\"type\":\"Grid\"},{\"attributes\":{\"bottom\":{\"expr\":{\"id\":\"1026\"}},\"fill_alpha\":{\"value\":0.1},\"fill_color\":{\"value\":\"red\"},\"hatch_alpha\":{\"value\":0.1},\"hatch_color\":{\"value\":\"red\"},\"line_alpha\":{\"value\":0.1},\"line_color\":{\"value\":\"red\"},\"top\":{\"expr\":{\"id\":\"1027\"}},\"width\":{\"value\":0.9},\"x\":{\"field\":\"categories\"}},\"id\":\"1055\",\"type\":\"VBar\"},{\"attributes\":{\"data\":{\"canceled\":[0,0,176,0,20,0,0,0,519,0,357,413,28,65,63,50,15,22,22,2,173,80,372,54,24],\"categories\":[\"Academic\",\"Places\",\"Uncategorized\",\"Blues\",\"Restaurants\",\"Webseries\",\"Thrillers\",\"Shorts\",\"Web\",\"Apps\",\"Gadgets\",\"Hardware\",\"Festivals\",\"Plays\",\"Musical\",\"Flight\",\"Spaces\",\"Immersive\",\"Experimental\",\"Comedy\",\"Wearables\",\"Sound\",\"Software\",\"Robots\",\"Makerspaces\"],\"failed\":[20,100,849,0,0,20,20,0,2502,734,1199,1669,155,415,305,241,78,106,116,0,462,223,1876,222,104],\"live\":[0,0,43,2,0,0,0,0,58,124,61,46,7,23,16,6,6,4,4,7,33,13,38,9,8],\"successful\":[0,0,798,18,0,0,0,40,222,310,631,1078,291,681,406,66,82,140,177,1,289,205,337,180,66],\"suspended\":[0,0,23,0,0,0,0,0,23,0,88,41,1,0,1,10,0,5,2,0,14,6,7,8,1]},\"selected\":{\"id\":\"1090\"},\"selection_policy\":{\"id\":\"1089\"}},\"id\":\"1071\",\"type\":\"ColumnDataSource\"},{\"attributes\":{\"fields\":[\"failed\",\"canceled\"]},\"id\":\"1027\",\"type\":\"Stack\"},{\"attributes\":{\"coordinates\":null,\"data_source\":{\"id\":\"1092\"},\"glyph\":{\"id\":\"1094\"},\"group\":null,\"hover_glyph\":null,\"muted_glyph\":{\"id\":\"1096\"},\"name\":\"live\",\"nonselection_glyph\":{\"id\":\"1095\"},\"view\":{\"id\":\"1098\"}},\"id\":\"1097\",\"type\":\"GlyphRenderer\"},{\"attributes\":{},\"id\":\"1047\",\"type\":\"AllLabels\"},{\"attributes\":{\"callback\":null,\"tooltips\":\"$name @categories: @$name\"},\"id\":\"1021\",\"type\":\"HoverTool\"}],\"root_ids\":[\"1003\"]},\"title\":\"Bokeh Application\",\"version\":\"2.4.2\"}};\n  const render_items = [{\"docid\":\"6eb19d61-9c6a-407a-9231-6136ff4dcd64\",\"root_ids\":[\"1003\"],\"roots\":{\"1003\":\"b47630c1-4252-4691-b1ab-f21cfe6e596b\"}}];\n  root.Bokeh.embed.embed_items_notebook(docs_json, render_items);\n\n  }\n  if (root.Bokeh !== undefined) {\n    embed_document(root);\n  } else {\n    let attempts = 0;\n    const timer = setInterval(function(root) {\n      if (root.Bokeh !== undefined) {\n        clearInterval(timer);\n        embed_document(root);\n      } else {\n        attempts++;\n        if (attempts > 100) {\n          clearInterval(timer);\n          console.log(\"Bokeh: ERROR: Unable to run BokehJS code because BokehJS library is missing\");\n        }\n      }\n    }, 10, root)\n  }\n})(window);",
      "application/vnd.bokehjs_exec.v0+json": ""
     },
     "metadata": {
      "application/vnd.bokehjs_exec.v0+json": {
       "id": "1003"
      }
     },
     "output_type": "display_data"
    }
   ],
   "source": [
    "from bokeh.plotting import figure, show\n",
    "from bokeh.plotting import show, output_notebook, output_file\n",
    "output_notebook()\n",
    "\n",
    "categories = list(categories_dict.keys())\n",
    "states = list(initdf[\"state\"].unique())\n",
    "colors = [\"orange\", \"red\", \"green\",\"blue\", \"silver\"]\n",
    "\n",
    "data = {'categories' : categories}\n",
    "data['failed'] = populating_state_series(failed_df)\n",
    "data['successful'] = populating_state_series(successful_df) \n",
    "data['canceled'] = populating_state_series(canceled_df)\n",
    "data['live'] = populating_state_series(live_df)\n",
    "data['suspended'] = populating_state_series(suspended_df)\n",
    " \n",
    "\n",
    "# print(data)\n",
    "p = figure(x_range=categories, height=500, title=\"States of Kicstarter by Categories\",\n",
    "           toolbar_location=None, tools='hover', tooltips=\"$name @categories: @$name\")\n",
    "\n",
    "p.vbar_stack(states, x='categories', width=0.9, color=colors, source=data,\n",
    "             legend_label=states)\n",
    "\n",
    "p.y_range.start = 0\n",
    "p.x_range.range_padding = 0.1\n",
    "p.xgrid.grid_line_color = None\n",
    "p.axis.minor_tick_line_color = None\n",
    "p.outline_line_color = None\n",
    "p.legend.location = \"top_left\"\n",
    "p.legend.orientation = \"horizontal\"\n",
    "p.xaxis.major_label_orientation = \"vertical\"\n",
    "p.xaxis.axis_label = 'Categories'\n",
    "p.yaxis.axis_label = 'No.of Kickstarters'\n",
    "\n",
    "\n",
    "show(p)\n"
   ]
  },
  {
   "cell_type": "markdown",
   "metadata": {
    "pycharm": {
     "name": "#%% md\n"
    }
   },
   "source": [
    "### 4.1.1 Inference from the Graph"
   ]
  },
  {
   "cell_type": "markdown",
   "metadata": {
    "pycharm": {
     "name": "#%% md\n"
    }
   },
   "source": [
    "- We have total 25 Categories which contain 20627 kickstarters combined. \n",
    "\n",
    "\n",
    "\n",
    "- Top 5 famous categires with most kickstarters are:\n",
    "    1. Web \n",
    "    2. Hardware \n",
    "    3. Software \n",
    "    4. Gadgets \n",
    "    5. Uncategorized \n",
    "    \n",
    "    \n",
    "- Top 5 Successful categories are:\n",
    "    1. Hardware \n",
    "    2. Uncategorized\n",
    "    3. Plays\n",
    "    4. Gadgets\n",
    "    5. Musical\n",
    "    \n",
    "    \n",
    "- Top 5 Failed catergories are:\n",
    "    1. Web \n",
    "    2. Software\n",
    "    3. Hardware \n",
    "    4. Gadgets \n",
    "    5. Uncategorized \n",
    "  \n"
   ]
  },
  {
   "cell_type": "code",
   "execution_count": 41,
   "metadata": {
    "pycharm": {
     "name": "#%%\n"
    }
   },
   "outputs": [],
   "source": [
    "# METHOD TO RETURN Categories PER STATE FOR VISUALIZATION\n",
    "\n",
    "def populating_categories_dictionary(df):\n",
    "    shallow_copy = categories_dict.copy()\n",
    "    for i in range(len(df)):\n",
    "        if df['category'][i] in shallow_copy:\n",
    "            shallow_copy[df['category'][i]] = df['state'][i]\n",
    "#             shallow_copy['academic'] = 20\n",
    "#     print(shallow_copy)\n",
    "    return shallow_copy"
   ]
  },
  {
   "cell_type": "markdown",
   "metadata": {
    "pycharm": {
     "name": "#%% md\n"
    }
   },
   "source": [
    "## 4.2 PIE CHART"
   ]
  },
  {
   "cell_type": "code",
   "execution_count": 42,
   "metadata": {
    "pycharm": {
     "name": "#%%\n"
    }
   },
   "outputs": [
    {
     "data": {
      "text/html": [
       "\n",
       "    <div class=\"bk-root\">\n",
       "        <a href=\"https://bokeh.org\" target=\"_blank\" class=\"bk-logo bk-logo-small bk-logo-notebook\"></a>\n",
       "        <span id=\"1242\">Loading BokehJS ...</span>\n",
       "    </div>"
      ]
     },
     "metadata": {},
     "output_type": "display_data"
    },
    {
     "data": {
      "application/javascript": "\n(function(root) {\n  function now() {\n    return new Date();\n  }\n\n  const force = true;\n\n  if (typeof root._bokeh_onload_callbacks === \"undefined\" || force === true) {\n    root._bokeh_onload_callbacks = [];\n    root._bokeh_is_loading = undefined;\n  }\n\n  const JS_MIME_TYPE = 'application/javascript';\n  const HTML_MIME_TYPE = 'text/html';\n  const EXEC_MIME_TYPE = 'application/vnd.bokehjs_exec.v0+json';\n  const CLASS_NAME = 'output_bokeh rendered_html';\n\n  /**\n   * Render data to the DOM node\n   */\n  function render(props, node) {\n    const script = document.createElement(\"script\");\n    node.appendChild(script);\n  }\n\n  /**\n   * Handle when an output is cleared or removed\n   */\n  function handleClearOutput(event, handle) {\n    const cell = handle.cell;\n\n    const id = cell.output_area._bokeh_element_id;\n    const server_id = cell.output_area._bokeh_server_id;\n    // Clean up Bokeh references\n    if (id != null && id in Bokeh.index) {\n      Bokeh.index[id].model.document.clear();\n      delete Bokeh.index[id];\n    }\n\n    if (server_id !== undefined) {\n      // Clean up Bokeh references\n      const cmd_clean = \"from bokeh.io.state import curstate; print(curstate().uuid_to_server['\" + server_id + \"'].get_sessions()[0].document.roots[0]._id)\";\n      cell.notebook.kernel.execute(cmd_clean, {\n        iopub: {\n          output: function(msg) {\n            const id = msg.content.text.trim();\n            if (id in Bokeh.index) {\n              Bokeh.index[id].model.document.clear();\n              delete Bokeh.index[id];\n            }\n          }\n        }\n      });\n      // Destroy server and session\n      const cmd_destroy = \"import bokeh.io.notebook as ion; ion.destroy_server('\" + server_id + \"')\";\n      cell.notebook.kernel.execute(cmd_destroy);\n    }\n  }\n\n  /**\n   * Handle when a new output is added\n   */\n  function handleAddOutput(event, handle) {\n    const output_area = handle.output_area;\n    const output = handle.output;\n\n    // limit handleAddOutput to display_data with EXEC_MIME_TYPE content only\n    if ((output.output_type != \"display_data\") || (!Object.prototype.hasOwnProperty.call(output.data, EXEC_MIME_TYPE))) {\n      return\n    }\n\n    const toinsert = output_area.element.find(\".\" + CLASS_NAME.split(' ')[0]);\n\n    if (output.metadata[EXEC_MIME_TYPE][\"id\"] !== undefined) {\n      toinsert[toinsert.length - 1].firstChild.textContent = output.data[JS_MIME_TYPE];\n      // store reference to embed id on output_area\n      output_area._bokeh_element_id = output.metadata[EXEC_MIME_TYPE][\"id\"];\n    }\n    if (output.metadata[EXEC_MIME_TYPE][\"server_id\"] !== undefined) {\n      const bk_div = document.createElement(\"div\");\n      bk_div.innerHTML = output.data[HTML_MIME_TYPE];\n      const script_attrs = bk_div.children[0].attributes;\n      for (let i = 0; i < script_attrs.length; i++) {\n        toinsert[toinsert.length - 1].firstChild.setAttribute(script_attrs[i].name, script_attrs[i].value);\n        toinsert[toinsert.length - 1].firstChild.textContent = bk_div.children[0].textContent\n      }\n      // store reference to server id on output_area\n      output_area._bokeh_server_id = output.metadata[EXEC_MIME_TYPE][\"server_id\"];\n    }\n  }\n\n  function register_renderer(events, OutputArea) {\n\n    function append_mime(data, metadata, element) {\n      // create a DOM node to render to\n      const toinsert = this.create_output_subarea(\n        metadata,\n        CLASS_NAME,\n        EXEC_MIME_TYPE\n      );\n      this.keyboard_manager.register_events(toinsert);\n      // Render to node\n      const props = {data: data, metadata: metadata[EXEC_MIME_TYPE]};\n      render(props, toinsert[toinsert.length - 1]);\n      element.append(toinsert);\n      return toinsert\n    }\n\n    /* Handle when an output is cleared or removed */\n    events.on('clear_output.CodeCell', handleClearOutput);\n    events.on('delete.Cell', handleClearOutput);\n\n    /* Handle when a new output is added */\n    events.on('output_added.OutputArea', handleAddOutput);\n\n    /**\n     * Register the mime type and append_mime function with output_area\n     */\n    OutputArea.prototype.register_mime_type(EXEC_MIME_TYPE, append_mime, {\n      /* Is output safe? */\n      safe: true,\n      /* Index of renderer in `output_area.display_order` */\n      index: 0\n    });\n  }\n\n  // register the mime type if in Jupyter Notebook environment and previously unregistered\n  if (root.Jupyter !== undefined) {\n    const events = require('base/js/events');\n    const OutputArea = require('notebook/js/outputarea').OutputArea;\n\n    if (OutputArea.prototype.mime_types().indexOf(EXEC_MIME_TYPE) == -1) {\n      register_renderer(events, OutputArea);\n    }\n  }\n\n  \n  if (typeof (root._bokeh_timeout) === \"undefined\" || force === true) {\n    root._bokeh_timeout = Date.now() + 5000;\n    root._bokeh_failed_load = false;\n  }\n\n  const NB_LOAD_WARNING = {'data': {'text/html':\n     \"<div style='background-color: #fdd'>\\n\"+\n     \"<p>\\n\"+\n     \"BokehJS does not appear to have successfully loaded. If loading BokehJS from CDN, this \\n\"+\n     \"may be due to a slow or bad network connection. Possible fixes:\\n\"+\n     \"</p>\\n\"+\n     \"<ul>\\n\"+\n     \"<li>re-rerun `output_notebook()` to attempt to load from CDN again, or</li>\\n\"+\n     \"<li>use INLINE resources instead, as so:</li>\\n\"+\n     \"</ul>\\n\"+\n     \"<code>\\n\"+\n     \"from bokeh.resources import INLINE\\n\"+\n     \"output_notebook(resources=INLINE)\\n\"+\n     \"</code>\\n\"+\n     \"</div>\"}};\n\n  function display_loaded() {\n    const el = document.getElementById(\"1242\");\n    if (el != null) {\n      el.textContent = \"BokehJS is loading...\";\n    }\n    if (root.Bokeh !== undefined) {\n      if (el != null) {\n        el.textContent = \"BokehJS \" + root.Bokeh.version + \" successfully loaded.\";\n      }\n    } else if (Date.now() < root._bokeh_timeout) {\n      setTimeout(display_loaded, 100)\n    }\n  }\n\n\n  function run_callbacks() {\n    try {\n      root._bokeh_onload_callbacks.forEach(function(callback) {\n        if (callback != null)\n          callback();\n      });\n    } finally {\n      delete root._bokeh_onload_callbacks\n    }\n    console.debug(\"Bokeh: all callbacks have finished\");\n  }\n\n  function load_libs(css_urls, js_urls, callback) {\n    if (css_urls == null) css_urls = [];\n    if (js_urls == null) js_urls = [];\n\n    root._bokeh_onload_callbacks.push(callback);\n    if (root._bokeh_is_loading > 0) {\n      console.debug(\"Bokeh: BokehJS is being loaded, scheduling callback at\", now());\n      return null;\n    }\n    if (js_urls == null || js_urls.length === 0) {\n      run_callbacks();\n      return null;\n    }\n    console.debug(\"Bokeh: BokehJS not loaded, scheduling load and callback at\", now());\n    root._bokeh_is_loading = css_urls.length + js_urls.length;\n\n    function on_load() {\n      root._bokeh_is_loading--;\n      if (root._bokeh_is_loading === 0) {\n        console.debug(\"Bokeh: all BokehJS libraries/stylesheets loaded\");\n        run_callbacks()\n      }\n    }\n\n    function on_error(url) {\n      console.error(\"failed to load \" + url);\n    }\n\n    for (let i = 0; i < css_urls.length; i++) {\n      const url = css_urls[i];\n      const element = document.createElement(\"link\");\n      element.onload = on_load;\n      element.onerror = on_error.bind(null, url);\n      element.rel = \"stylesheet\";\n      element.type = \"text/css\";\n      element.href = url;\n      console.debug(\"Bokeh: injecting link tag for BokehJS stylesheet: \", url);\n      document.body.appendChild(element);\n    }\n\n    for (let i = 0; i < js_urls.length; i++) {\n      const url = js_urls[i];\n      const element = document.createElement('script');\n      element.onload = on_load;\n      element.onerror = on_error.bind(null, url);\n      element.async = false;\n      element.src = url;\n      console.debug(\"Bokeh: injecting script tag for BokehJS library: \", url);\n      document.head.appendChild(element);\n    }\n  };\n\n  function inject_raw_css(css) {\n    const element = document.createElement(\"style\");\n    element.appendChild(document.createTextNode(css));\n    document.body.appendChild(element);\n  }\n\n  \n  const js_urls = [\"https://cdn.bokeh.org/bokeh/release/bokeh-2.4.2.min.js\", \"https://cdn.bokeh.org/bokeh/release/bokeh-gl-2.4.2.min.js\", \"https://cdn.bokeh.org/bokeh/release/bokeh-widgets-2.4.2.min.js\", \"https://cdn.bokeh.org/bokeh/release/bokeh-tables-2.4.2.min.js\", \"https://cdn.bokeh.org/bokeh/release/bokeh-mathjax-2.4.2.min.js\"];\n  const css_urls = [];\n  \n\n  const inline_js = [\n    function(Bokeh) {\n      Bokeh.set_log_level(\"info\");\n    },\n    function(Bokeh) {\n    \n    \n    }\n  ];\n\n  function run_inline_js() {\n    \n    if (root.Bokeh !== undefined || force === true) {\n      \n    for (let i = 0; i < inline_js.length; i++) {\n      inline_js[i].call(root, root.Bokeh);\n    }\n    if (force === true) {\n        display_loaded();\n      }} else if (Date.now() < root._bokeh_timeout) {\n      setTimeout(run_inline_js, 100);\n    } else if (!root._bokeh_failed_load) {\n      console.log(\"Bokeh: BokehJS failed to load within specified timeout.\");\n      root._bokeh_failed_load = true;\n    } else if (force !== true) {\n      const cell = $(document.getElementById(\"1242\")).parents('.cell').data().cell;\n      cell.output_area.append_execute_result(NB_LOAD_WARNING)\n    }\n\n  }\n\n  if (root._bokeh_is_loading === 0) {\n    console.debug(\"Bokeh: BokehJS loaded, going straight to plotting\");\n    run_inline_js();\n  } else {\n    load_libs(css_urls, js_urls, function() {\n      console.debug(\"Bokeh: BokehJS plotting callback run at\", now());\n      run_inline_js();\n    });\n  }\n}(window));",
      "application/vnd.bokehjs_load.v0+json": ""
     },
     "metadata": {},
     "output_type": "display_data"
    },
    {
     "name": "stderr",
     "output_type": "stream",
     "text": [
      "BokehDeprecationWarning: 'legend' keyword is deprecated, use explicit 'legend_label', 'legend_field', or 'legend_group' keywords instead\n"
     ]
    },
    {
     "data": {
      "text/html": [
       "\n",
       "\n",
       "\n",
       "\n",
       "\n",
       "\n",
       "  <div class=\"bk-root\" id=\"78a08a95-8c4c-4718-bcd8-e7ddfb4c46bd\" data-root-id=\"1243\"></div>\n"
      ]
     },
     "metadata": {},
     "output_type": "display_data"
    },
    {
     "data": {
      "application/javascript": "(function(root) {\n  function embed_document(root) {\n    \n  const docs_json = {\"0f28405c-a349-4085-939a-c5dd5562c02b\":{\"defs\":[],\"roots\":{\"references\":[{\"attributes\":{\"below\":[{\"id\":\"1254\"}],\"center\":[{\"id\":\"1257\"},{\"id\":\"1261\"},{\"id\":\"1283\"},{\"id\":\"1287\"}],\"height\":800,\"left\":[{\"id\":\"1258\"}],\"renderers\":[{\"id\":\"1272\"}],\"title\":{\"id\":\"1244\"},\"toolbar\":{\"id\":\"1263\"},\"toolbar_location\":null,\"x_range\":{\"id\":\"1246\"},\"x_scale\":{\"id\":\"1250\"},\"y_range\":{\"id\":\"1248\"},\"y_scale\":{\"id\":\"1252\"}},\"id\":\"1243\",\"subtype\":\"Figure\",\"type\":\"Plot\"},{\"attributes\":{\"source\":{\"id\":\"1267\"}},\"id\":\"1273\",\"type\":\"CDSView\"},{\"attributes\":{\"end_angle\":{\"expr\":{\"id\":\"1266\"}},\"fill_color\":{\"field\":\"color\"},\"line_color\":{\"value\":\"white\"},\"radius\":{\"value\":0.8},\"start_angle\":{\"expr\":{\"id\":\"1265\"}},\"x\":{\"value\":0},\"y\":{\"value\":1}},\"id\":\"1269\",\"type\":\"Wedge\"},{\"attributes\":{},\"id\":\"1277\",\"type\":\"AllLabels\"},{\"attributes\":{\"coordinates\":null,\"data_source\":{\"id\":\"1267\"},\"glyph\":{\"id\":\"1269\"},\"group\":null,\"hover_glyph\":null,\"muted_glyph\":{\"id\":\"1271\"},\"nonselection_glyph\":{\"id\":\"1270\"},\"view\":{\"id\":\"1273\"}},\"id\":\"1272\",\"type\":\"GlyphRenderer\"},{\"attributes\":{\"coordinates\":null,\"group\":null,\"items\":[{\"id\":\"1284\"}]},\"id\":\"1283\",\"type\":\"Legend\"},{\"attributes\":{\"label\":{\"field\":\"category\"},\"renderers\":[{\"id\":\"1272\"}]},\"id\":\"1284\",\"type\":\"LegendItem\"},{\"attributes\":{},\"id\":\"1279\",\"type\":\"BasicTickFormatter\"},{\"attributes\":{\"coordinates\":null,\"formatter\":{\"id\":\"1279\"},\"group\":null,\"major_label_policy\":{\"id\":\"1280\"},\"ticker\":{\"id\":\"1255\"},\"visible\":false},\"id\":\"1254\",\"type\":\"LinearAxis\"},{\"attributes\":{},\"id\":\"1250\",\"type\":\"LinearScale\"},{\"attributes\":{},\"id\":\"1280\",\"type\":\"AllLabels\"},{\"attributes\":{\"field\":\"angle\",\"include_zero\":true},\"id\":\"1286\",\"type\":\"CumSum\"},{\"attributes\":{\"coordinates\":null,\"formatter\":{\"id\":\"1276\"},\"group\":null,\"major_label_policy\":{\"id\":\"1277\"},\"ticker\":{\"id\":\"1259\"},\"visible\":false},\"id\":\"1258\",\"type\":\"LinearAxis\"},{\"attributes\":{\"field\":\"angle\",\"include_zero\":true},\"id\":\"1265\",\"type\":\"CumSum\"},{\"attributes\":{},\"id\":\"1259\",\"type\":\"BasicTicker\"},{\"attributes\":{},\"id\":\"1282\",\"type\":\"Selection\"},{\"attributes\":{},\"id\":\"1252\",\"type\":\"LinearScale\"},{\"attributes\":{},\"id\":\"1281\",\"type\":\"UnionRenderers\"},{\"attributes\":{\"coordinates\":null,\"group\":null,\"text\":\"Pie Chart\"},\"id\":\"1244\",\"type\":\"Title\"},{\"attributes\":{\"data\":{\"angle\":{\"__ndarray__\":\"tFArJCH0eD/gJDZtKTGfPw3Dlqe9aeI/tFArJCH0eD+0UCskIfR4P7RQKyQh9Hg/tFArJCH0eD+0UCskIfSIP2WFrh1LM/A/pLmaCivF1j+kuZoKK8XmP91Wk6Jxpu8/xzgKXA/Lwj+mqkEOBRXXP71VGilU184/EUqP1CkWvT9MM4RKkjqsP9yx6Hy5mbU/9AwVpRcIuT+0UCskIfRoPzhCo73+7dI/dESVsDmMxD/pfygMzqLpP6Vp7hc6ccI/Y46wcvCorz8=\",\"dtype\":\"float64\",\"order\":\"little\",\"shape\":[25]},\"category\":[\"Academic\",\"Places\",\"Uncategorized\",\"Blues\",\"Restaurants\",\"Webseries\",\"Thrillers\",\"Shorts\",\"Web\",\"Apps\",\"Gadgets\",\"Hardware\",\"Festivals\",\"Plays\",\"Musical\",\"Flight\",\"Spaces\",\"Immersive\",\"Experimental\",\"Comedy\",\"Wearables\",\"Sound\",\"Software\",\"Robots\",\"Makerspaces\"],\"color\":[\"#039d72\",\"#45BA7E\",\"#de324c\",\"#f4895f\",\"#f8e16f\",\"#95cf92\",\"#369acc\",\"#9656a2\",\"#B74E09\",\"#61B22E\",\"#4B2DF7\",\"#5EB999\",\"#5DBDE7\",\"#DD629B\",\"#B2A6A3\",\"#C9212C\",\"#E63DC4\",\"#A13C50\",\"#4E4327\",\"#76A9CA\",\"#DD7C03\",\"#DD7C03\",\"#80D077\",\"#D84CE4\",\"#D67956\"],\"index\":[0,1,2,3,4,5,6,7,8,9,10,11,12,13,14,15,16,17,18,19,20,21,22,23,24],\"value\":[20,100,1889,20,20,20,20,40,3324,1168,2336,3247,482,1184,791,373,181,277,321,10,971,527,2630,473,203]},\"selected\":{\"id\":\"1282\"},\"selection_policy\":{\"id\":\"1281\"}},\"id\":\"1267\",\"type\":\"ColumnDataSource\"},{\"attributes\":{},\"id\":\"1316\",\"type\":\"Selection\"},{\"attributes\":{\"end\":1.8,\"start\":-0.8},\"id\":\"1246\",\"type\":\"Range1d\"},{\"attributes\":{\"axis\":{\"id\":\"1258\"},\"coordinates\":null,\"dimension\":1,\"group\":null,\"ticker\":null},\"id\":\"1261\",\"type\":\"Grid\"},{\"attributes\":{\"callback\":null,\"tooltips\":\"@category: @value\"},\"id\":\"1262\",\"type\":\"HoverTool\"},{\"attributes\":{\"field\":\"angle\"},\"id\":\"1266\",\"type\":\"CumSum\"},{\"attributes\":{},\"id\":\"1248\",\"type\":\"DataRange1d\"},{\"attributes\":{\"angle\":{\"expr\":{\"id\":\"1286\"}},\"coordinates\":null,\"group\":null,\"source\":{\"id\":\"1285\"},\"text\":{\"field\":\"value\"},\"x\":{\"value\":0},\"y\":{\"value\":1}},\"id\":\"1287\",\"type\":\"LabelSet\"},{\"attributes\":{},\"id\":\"1255\",\"type\":\"BasicTicker\"},{\"attributes\":{\"end_angle\":{\"expr\":{\"id\":\"1266\"}},\"fill_alpha\":{\"value\":0.2},\"fill_color\":{\"field\":\"color\"},\"hatch_alpha\":{\"value\":0.2},\"line_alpha\":{\"value\":0.2},\"line_color\":{\"value\":\"white\"},\"radius\":{\"value\":0.8},\"start_angle\":{\"expr\":{\"id\":\"1265\"}},\"x\":{\"value\":0},\"y\":{\"value\":1}},\"id\":\"1271\",\"type\":\"Wedge\"},{\"attributes\":{},\"id\":\"1276\",\"type\":\"BasicTickFormatter\"},{\"attributes\":{},\"id\":\"1315\",\"type\":\"UnionRenderers\"},{\"attributes\":{\"data\":{\"angle\":{\"__ndarray__\":\"tFArJCH0eD/gJDZtKTGfPw3Dlqe9aeI/tFArJCH0eD+0UCskIfR4P7RQKyQh9Hg/tFArJCH0eD+0UCskIfSIP2WFrh1LM/A/pLmaCivF1j+kuZoKK8XmP91Wk6Jxpu8/xzgKXA/Lwj+mqkEOBRXXP71VGilU184/EUqP1CkWvT9MM4RKkjqsP9yx6Hy5mbU/9AwVpRcIuT+0UCskIfRoPzhCo73+7dI/dESVsDmMxD/pfygMzqLpP6Vp7hc6ccI/Y46wcvCorz8=\",\"dtype\":\"float64\",\"order\":\"little\",\"shape\":[25]},\"category\":[\"Academic\",\"Places\",\"Uncategorized\",\"Blues\",\"Restaurants\",\"Webseries\",\"Thrillers\",\"Shorts\",\"Web\",\"Apps\",\"Gadgets\",\"Hardware\",\"Festivals\",\"Plays\",\"Musical\",\"Flight\",\"Spaces\",\"Immersive\",\"Experimental\",\"Comedy\",\"Wearables\",\"Sound\",\"Software\",\"Robots\",\"Makerspaces\"],\"color\":[\"#039d72\",\"#45BA7E\",\"#de324c\",\"#f4895f\",\"#f8e16f\",\"#95cf92\",\"#369acc\",\"#9656a2\",\"#B74E09\",\"#61B22E\",\"#4B2DF7\",\"#5EB999\",\"#5DBDE7\",\"#DD629B\",\"#B2A6A3\",\"#C9212C\",\"#E63DC4\",\"#A13C50\",\"#4E4327\",\"#76A9CA\",\"#DD7C03\",\"#DD7C03\",\"#80D077\",\"#D84CE4\",\"#D67956\"],\"index\":[0,1,2,3,4,5,6,7,8,9,10,11,12,13,14,15,16,17,18,19,20,21,22,23,24],\"value\":[\"                                 20\",\"                                100\",\"                               1889\",\"                                 20\",\"                                 20\",\"                                 20\",\"                                 20\",\"                                 40\",\"                               3324\",\"                               1168\",\"                               2336\",\"                               3247\",\"                                482\",\"                               1184\",\"                                791\",\"                                373\",\"                                181\",\"                                277\",\"                                321\",\"                                 10\",\"                                971\",\"                                527\",\"                               2630\",\"                                473\",\"                                203\"]},\"selected\":{\"id\":\"1316\"},\"selection_policy\":{\"id\":\"1315\"}},\"id\":\"1285\",\"type\":\"ColumnDataSource\"},{\"attributes\":{\"tools\":[{\"id\":\"1262\"}]},\"id\":\"1263\",\"type\":\"Toolbar\"},{\"attributes\":{\"axis\":{\"id\":\"1254\"},\"coordinates\":null,\"group\":null,\"ticker\":null},\"id\":\"1257\",\"type\":\"Grid\"},{\"attributes\":{\"end_angle\":{\"expr\":{\"id\":\"1266\"}},\"fill_alpha\":{\"value\":0.1},\"fill_color\":{\"field\":\"color\"},\"hatch_alpha\":{\"value\":0.1},\"line_alpha\":{\"value\":0.1},\"line_color\":{\"value\":\"white\"},\"radius\":{\"value\":0.8},\"start_angle\":{\"expr\":{\"id\":\"1265\"}},\"x\":{\"value\":0},\"y\":{\"value\":1}},\"id\":\"1270\",\"type\":\"Wedge\"}],\"root_ids\":[\"1243\"]},\"title\":\"Bokeh Application\",\"version\":\"2.4.2\"}};\n  const render_items = [{\"docid\":\"0f28405c-a349-4085-939a-c5dd5562c02b\",\"root_ids\":[\"1243\"],\"roots\":{\"1243\":\"78a08a95-8c4c-4718-bcd8-e7ddfb4c46bd\"}}];\n  root.Bokeh.embed.embed_items_notebook(docs_json, render_items);\n\n  }\n  if (root.Bokeh !== undefined) {\n    embed_document(root);\n  } else {\n    let attempts = 0;\n    const timer = setInterval(function(root) {\n      if (root.Bokeh !== undefined) {\n        clearInterval(timer);\n        embed_document(root);\n      } else {\n        attempts++;\n        if (attempts > 100) {\n          clearInterval(timer);\n          console.log(\"Bokeh: ERROR: Unable to run BokehJS code because BokehJS library is missing\");\n        }\n      }\n    }, 10, root)\n  }\n})(window);",
      "application/vnd.bokehjs_exec.v0+json": ""
     },
     "metadata": {
      "application/vnd.bokehjs_exec.v0+json": {
       "id": "1243"
      }
     },
     "output_type": "display_data"
    }
   ],
   "source": [
    "from math import pi\n",
    "import pandas as pd\n",
    "from bokeh.io import output_notebook, show\n",
    "from bokeh.palettes import Category20c\n",
    "import random\n",
    "from bokeh.plotting import figure\n",
    "from bokeh.transform import cumsum\n",
    "from bokeh.models import LabelSet, ColumnDataSource\n",
    "\n",
    "output_notebook()\n",
    "\n",
    "pie_colors=['#039d72','#45BA7E','#de324c', '#f4895f', '#f8e16f',\n",
    "            '#95cf92','#369acc','#9656a2','#B74E09','#61B22E',\n",
    "            '#4B2DF7','#5EB999','#5DBDE7','#DD629B','#B2A6A3',\n",
    "            '#C9212C','#E63DC4', '#A13C50','#4E4327','#76A9CA',\n",
    "            '#DD7C03','#DD7C03','#80D077','#D84CE4', '#D67956']\n",
    "\n",
    "\n",
    "total_df = initdf.groupby(\"category\")[\"state\"].count().reset_index()\n",
    "x = populating_categories_dictionary(total_df)\n",
    "data = pd.Series(x).reset_index(name='value').rename(columns={'index':'category'})\n",
    "# print(data)\n",
    "\n",
    "data['angle'] = data['value']/data['value'].sum() * 2*pi\n",
    "data['color'] = ['#039d72','#45BA7E','#de324c', '#f4895f', '#f8e16f',\n",
    "            '#95cf92','#369acc','#9656a2','#B74E09','#61B22E',\n",
    "            '#4B2DF7','#5EB999','#5DBDE7','#DD629B','#B2A6A3',\n",
    "            '#C9212C','#E63DC4', '#A13C50','#4E4327','#76A9CA',\n",
    "            '#DD7C03','#DD7C03','#80D077','#D84CE4', '#D67956']\n",
    "\n",
    "p = figure(plot_height=800, title=\"Pie Chart\", toolbar_location=None,\n",
    "           tools=\"hover\", tooltips=\"@category: @value\", x_range=(-0.8, 1.8))\n",
    "\n",
    "p.wedge(x=0, y=1, radius=0.8,\n",
    "        start_angle=cumsum('angle', include_zero=True), end_angle=cumsum('angle'),\n",
    "        line_color=\"white\", fill_color='color', legend='category', source=data)\n",
    "\n",
    "data[\"value\"] = data['value'].astype(str)\n",
    "data[\"value\"] = data[\"value\"].str.pad(35, side = \"left\")\n",
    "source = ColumnDataSource(data)\n",
    "\n",
    "labels = LabelSet(x=0, y=1, text='value',\n",
    "        angle=cumsum('angle', include_zero=True), source=source, render_mode='canvas')\n",
    "\n",
    "p.add_layout(labels)\n",
    "\n",
    "p.axis.axis_label=None\n",
    "p.axis.visible=False\n",
    "# p.grid.grid_line_color = None\n",
    "\n",
    "show(p)"
   ]
  },
  {
   "cell_type": "markdown",
   "metadata": {
    "pycharm": {
     "name": "#%% md\n"
    }
   },
   "source": [
    "### 4.2.1Inference from the Pie Chart\n"
   ]
  },
  {
   "cell_type": "markdown",
   "metadata": {
    "pycharm": {
     "name": "#%% md\n"
    }
   },
   "source": [
    "- The above visualisation consist of a simple pie chart showing distribution of all the Kickstarters in various categories\n",
    "\n",
    "\n",
    "\n",
    "- Pie chart suggests that most of the kickstarters are famous amongts the following categories:\n",
    "   1. WEB\n",
    "   2. HARDWARE\n",
    "   3. SOFTWARE\n",
    "   4. GADGETS\n",
    "   5. UNCATEGORIZED"
   ]
  },
  {
   "cell_type": "markdown",
   "metadata": {
    "pycharm": {
     "name": "#%% md\n"
    }
   },
   "source": [
    "##### CREATING A DATAFRAME FOR LINE CHART"
   ]
  },
  {
   "cell_type": "code",
   "execution_count": 43,
   "metadata": {
    "pycharm": {
     "name": "#%%\n"
    }
   },
   "outputs": [
    {
     "data": {
      "text/plain": [
       "launched_at_yr\n",
       "2009      15\n",
       "2010      62\n",
       "2011     125\n",
       "2012     262\n",
       "2013     524\n",
       "2014    1400\n",
       "2015    1984\n",
       "2016    1602\n",
       "2017      44\n",
       "Name: name, dtype: int64"
      ]
     },
     "execution_count": 43,
     "metadata": {},
     "output_type": "execute_result"
    }
   ],
   "source": [
    "# Using Groupby, Checking count of kickstarter(name) by their launch year which have state as successful. \n",
    "\n",
    "initdf[initdf['state'] == 'successful'].groupby('launched_at_yr')['name'].count()"
   ]
  },
  {
   "cell_type": "code",
   "execution_count": 44,
   "metadata": {
    "pycharm": {
     "name": "#%%\n"
    }
   },
   "outputs": [
    {
     "data": {
      "text/plain": [
       "launched_at_yr\n",
       "2009      26\n",
       "2010     118\n",
       "2011     134\n",
       "2012     227\n",
       "2013     565\n",
       "2014    3132\n",
       "2015    4241\n",
       "2016    2894\n",
       "2017      79\n",
       "Name: name, dtype: int64"
      ]
     },
     "execution_count": 44,
     "metadata": {},
     "output_type": "execute_result"
    }
   ],
   "source": [
    "# Using Groupby, Checking count of kickstarter(name) by their launch year which have state as Failed. \n",
    "\n",
    "initdf[initdf['state'] == 'failed'].groupby('launched_at_yr')['name'].count()"
   ]
  },
  {
   "cell_type": "code",
   "execution_count": 45,
   "metadata": {
    "pycharm": {
     "name": "#%%\n"
    }
   },
   "outputs": [],
   "source": [
    "# CALLING METHOD TO RETURN SERIES PER Launch Year  FOR VISUALIZATION\n",
    "\n",
    "# This method will call all the kickstarters according to their launch year.\n",
    "total_by_yr = initdf.groupby(['launched_at_yr'])[['name']].count().reset_index()\n",
    "\n",
    "# This method will call all the sucessful kickstarters according to their launch year.\n",
    "successful_by_yr = initdf[initdf['state'] == 'successful'].groupby('launched_at_yr')['name'].count().reset_index()\n",
    "\n",
    "# This method will call all the failed kickstarters according to their launch year.\n",
    "failed_by_yr = initdf[initdf['state'] == 'failed'].groupby('launched_at_yr')['name'].count().reset_index()\n",
    "\n"
   ]
  },
  {
   "cell_type": "code",
   "execution_count": 46,
   "metadata": {
    "pycharm": {
     "name": "#%%\n"
    }
   },
   "outputs": [],
   "source": [
    "# VALIDATION TEST CELL ------------------------------------------------------------------------------------------------\n",
    "#list(successful_by_yr['name'])"
   ]
  },
  {
   "cell_type": "markdown",
   "metadata": {
    "pycharm": {
     "name": "#%% md\n"
    }
   },
   "source": [
    "## 4.3 LINE GRAPH"
   ]
  },
  {
   "cell_type": "code",
   "execution_count": 47,
   "metadata": {
    "pycharm": {
     "name": "#%%\n"
    },
    "scrolled": true
   },
   "outputs": [
    {
     "data": {
      "text/html": [
       "\n",
       "\n",
       "\n",
       "\n",
       "\n",
       "\n",
       "  <div class=\"bk-root\" id=\"6637a1ef-b788-4496-bb00-d75a346af1f2\" data-root-id=\"1372\"></div>\n"
      ]
     },
     "metadata": {},
     "output_type": "display_data"
    },
    {
     "data": {
      "application/javascript": "(function(root) {\n  function embed_document(root) {\n    \n  const docs_json = {\"372235d2-2602-465d-aa47-47edcb9319c5\":{\"defs\":[],\"roots\":{\"references\":[{\"attributes\":{\"below\":[{\"id\":\"1383\"}],\"center\":[{\"id\":\"1386\"},{\"id\":\"1390\"},{\"id\":\"1421\"}],\"height\":400,\"left\":[{\"id\":\"1387\"}],\"renderers\":[{\"id\":\"1409\"},{\"id\":\"1427\"},{\"id\":\"1446\"}],\"title\":{\"id\":\"1373\"},\"toolbar\":{\"id\":\"1398\"},\"x_range\":{\"id\":\"1375\"},\"x_scale\":{\"id\":\"1379\"},\"y_range\":{\"id\":\"1377\"},\"y_scale\":{\"id\":\"1381\"}},\"id\":\"1372\",\"subtype\":\"Figure\",\"type\":\"Plot\"},{\"attributes\":{},\"id\":\"1416\",\"type\":\"BasicTickFormatter\"},{\"attributes\":{},\"id\":\"1388\",\"type\":\"BasicTicker\"},{\"attributes\":{\"line_color\":\"blue\",\"line_width\":2,\"x\":{\"field\":\"x\"},\"y\":{\"field\":\"y\"}},\"id\":\"1406\",\"type\":\"Line\"},{\"attributes\":{},\"id\":\"1417\",\"type\":\"AllLabels\"},{\"attributes\":{\"source\":{\"id\":\"1405\"}},\"id\":\"1410\",\"type\":\"CDSView\"},{\"attributes\":{\"bottom_units\":\"screen\",\"coordinates\":null,\"fill_alpha\":0.5,\"fill_color\":\"lightgrey\",\"group\":null,\"left_units\":\"screen\",\"level\":\"overlay\",\"line_alpha\":1.0,\"line_color\":\"black\",\"line_dash\":[4,4],\"line_width\":2,\"right_units\":\"screen\",\"syncable\":false,\"top_units\":\"screen\"},\"id\":\"1397\",\"type\":\"BoxAnnotation\"},{\"attributes\":{\"coordinates\":null,\"data_source\":{\"id\":\"1405\"},\"glyph\":{\"id\":\"1406\"},\"group\":null,\"hover_glyph\":null,\"muted_glyph\":{\"id\":\"1408\"},\"nonselection_glyph\":{\"id\":\"1407\"},\"view\":{\"id\":\"1410\"}},\"id\":\"1409\",\"type\":\"GlyphRenderer\"},{\"attributes\":{},\"id\":\"1391\",\"type\":\"PanTool\"},{\"attributes\":{},\"id\":\"1396\",\"type\":\"HelpTool\"},{\"attributes\":{},\"id\":\"1381\",\"type\":\"LinearScale\"},{\"attributes\":{},\"id\":\"1395\",\"type\":\"ResetTool\"},{\"attributes\":{},\"id\":\"1394\",\"type\":\"SaveTool\"},{\"attributes\":{},\"id\":\"1384\",\"type\":\"BasicTicker\"},{\"attributes\":{\"data\":{\"x\":[2009,2010,2011,2012,2013,2014,2015,2016,2017],\"y\":[50,207,286,523,1191,5226,7262,5222,660]},\"selected\":{\"id\":\"1419\"},\"selection_policy\":{\"id\":\"1418\"}},\"id\":\"1405\",\"type\":\"ColumnDataSource\"},{\"attributes\":{},\"id\":\"1418\",\"type\":\"UnionRenderers\"},{\"attributes\":{\"data\":{\"x\":[2009,2010,2011,2012,2013,2014,2015,2016,2017],\"y\":[26,118,134,227,565,3132,4241,2894,79]},\"selected\":{\"id\":\"1439\"},\"selection_policy\":{\"id\":\"1438\"}},\"id\":\"1423\",\"type\":\"ColumnDataSource\"},{\"attributes\":{},\"id\":\"1419\",\"type\":\"Selection\"},{\"attributes\":{\"line_alpha\":0.2,\"line_color\":\"blue\",\"line_width\":2,\"x\":{\"field\":\"x\"},\"y\":{\"field\":\"y\"}},\"id\":\"1408\",\"type\":\"Line\"},{\"attributes\":{\"coordinates\":null,\"group\":null,\"items\":[{\"id\":\"1422\"},{\"id\":\"1441\"},{\"id\":\"1462\"}]},\"id\":\"1421\",\"type\":\"Legend\"},{\"attributes\":{\"source\":{\"id\":\"1423\"}},\"id\":\"1428\",\"type\":\"CDSView\"},{\"attributes\":{\"line_alpha\":0.1,\"line_color\":\"blue\",\"line_width\":2,\"x\":{\"field\":\"x\"},\"y\":{\"field\":\"y\"}},\"id\":\"1407\",\"type\":\"Line\"},{\"attributes\":{\"source\":{\"id\":\"1442\"}},\"id\":\"1447\",\"type\":\"CDSView\"},{\"attributes\":{\"coordinates\":null,\"group\":null,\"text\":\"Total campaign vs Success/Failure rate\"},\"id\":\"1373\",\"type\":\"Title\"},{\"attributes\":{\"data\":{\"x\":[2009,2010,2011,2012,2013,2014,2015,2016,2017],\"y\":[15,62,125,262,524,1400,1984,1602,44]},\"selected\":{\"id\":\"1460\"},\"selection_policy\":{\"id\":\"1459\"}},\"id\":\"1442\",\"type\":\"ColumnDataSource\"},{\"attributes\":{\"line_color\":\"green\",\"line_width\":2,\"x\":{\"field\":\"x\"},\"y\":{\"field\":\"y\"}},\"id\":\"1443\",\"type\":\"Line\"},{\"attributes\":{\"coordinates\":null,\"data_source\":{\"id\":\"1423\"},\"glyph\":{\"id\":\"1424\"},\"group\":null,\"hover_glyph\":null,\"muted_glyph\":{\"id\":\"1426\"},\"nonselection_glyph\":{\"id\":\"1425\"},\"view\":{\"id\":\"1428\"}},\"id\":\"1427\",\"type\":\"GlyphRenderer\"},{\"attributes\":{\"tools\":[{\"id\":\"1391\"},{\"id\":\"1392\"},{\"id\":\"1393\"},{\"id\":\"1394\"},{\"id\":\"1395\"},{\"id\":\"1396\"}]},\"id\":\"1398\",\"type\":\"Toolbar\"},{\"attributes\":{\"axis\":{\"id\":\"1387\"},\"coordinates\":null,\"dimension\":1,\"group\":null,\"ticker\":null},\"id\":\"1390\",\"type\":\"Grid\"},{\"attributes\":{\"axis_label\":\"Value\",\"coordinates\":null,\"formatter\":{\"id\":\"1413\"},\"group\":null,\"major_label_policy\":{\"id\":\"1414\"},\"ticker\":{\"id\":\"1388\"}},\"id\":\"1387\",\"type\":\"LinearAxis\"},{\"attributes\":{\"overlay\":{\"id\":\"1397\"}},\"id\":\"1393\",\"type\":\"BoxZoomTool\"},{\"attributes\":{\"coordinates\":null,\"data_source\":{\"id\":\"1442\"},\"glyph\":{\"id\":\"1443\"},\"group\":null,\"hover_glyph\":null,\"muted_glyph\":{\"id\":\"1445\"},\"nonselection_glyph\":{\"id\":\"1444\"},\"view\":{\"id\":\"1447\"}},\"id\":\"1446\",\"type\":\"GlyphRenderer\"},{\"attributes\":{\"line_color\":\"red\",\"line_width\":2,\"x\":{\"field\":\"x\"},\"y\":{\"field\":\"y\"}},\"id\":\"1424\",\"type\":\"Line\"},{\"attributes\":{\"line_alpha\":0.2,\"line_color\":\"red\",\"line_width\":2,\"x\":{\"field\":\"x\"},\"y\":{\"field\":\"y\"}},\"id\":\"1426\",\"type\":\"Line\"},{\"attributes\":{\"label\":{\"value\":\"Failed\"},\"renderers\":[{\"id\":\"1427\"}]},\"id\":\"1441\",\"type\":\"LegendItem\"},{\"attributes\":{\"line_alpha\":0.1,\"line_color\":\"red\",\"line_width\":2,\"x\":{\"field\":\"x\"},\"y\":{\"field\":\"y\"}},\"id\":\"1425\",\"type\":\"Line\"},{\"attributes\":{\"label\":{\"value\":\"Successful\"},\"renderers\":[{\"id\":\"1446\"}]},\"id\":\"1462\",\"type\":\"LegendItem\"},{\"attributes\":{},\"id\":\"1379\",\"type\":\"LinearScale\"},{\"attributes\":{\"line_alpha\":0.2,\"line_color\":\"green\",\"line_width\":2,\"x\":{\"field\":\"x\"},\"y\":{\"field\":\"y\"}},\"id\":\"1445\",\"type\":\"Line\"},{\"attributes\":{},\"id\":\"1392\",\"type\":\"WheelZoomTool\"},{\"attributes\":{},\"id\":\"1375\",\"type\":\"DataRange1d\"},{\"attributes\":{\"line_alpha\":0.1,\"line_color\":\"green\",\"line_width\":2,\"x\":{\"field\":\"x\"},\"y\":{\"field\":\"y\"}},\"id\":\"1444\",\"type\":\"Line\"},{\"attributes\":{},\"id\":\"1413\",\"type\":\"BasicTickFormatter\"},{\"attributes\":{\"axis_label\":\"Year\",\"coordinates\":null,\"formatter\":{\"id\":\"1416\"},\"group\":null,\"major_label_policy\":{\"id\":\"1417\"},\"ticker\":{\"id\":\"1384\"}},\"id\":\"1383\",\"type\":\"LinearAxis\"},{\"attributes\":{},\"id\":\"1459\",\"type\":\"UnionRenderers\"},{\"attributes\":{},\"id\":\"1438\",\"type\":\"UnionRenderers\"},{\"attributes\":{},\"id\":\"1377\",\"type\":\"DataRange1d\"},{\"attributes\":{},\"id\":\"1460\",\"type\":\"Selection\"},{\"attributes\":{},\"id\":\"1439\",\"type\":\"Selection\"},{\"attributes\":{\"label\":{\"value\":\"Total.\"},\"renderers\":[{\"id\":\"1409\"}]},\"id\":\"1422\",\"type\":\"LegendItem\"},{\"attributes\":{},\"id\":\"1414\",\"type\":\"AllLabels\"},{\"attributes\":{\"axis\":{\"id\":\"1383\"},\"coordinates\":null,\"group\":null,\"ticker\":null},\"id\":\"1386\",\"type\":\"Grid\"}],\"root_ids\":[\"1372\"]},\"title\":\"Bokeh Application\",\"version\":\"2.4.2\"}};\n  const render_items = [{\"docid\":\"372235d2-2602-465d-aa47-47edcb9319c5\",\"root_ids\":[\"1372\"],\"roots\":{\"1372\":\"6637a1ef-b788-4496-bb00-d75a346af1f2\"}}];\n  root.Bokeh.embed.embed_items_notebook(docs_json, render_items);\n\n  }\n  if (root.Bokeh !== undefined) {\n    embed_document(root);\n  } else {\n    let attempts = 0;\n    const timer = setInterval(function(root) {\n      if (root.Bokeh !== undefined) {\n        clearInterval(timer);\n        embed_document(root);\n      } else {\n        attempts++;\n        if (attempts > 100) {\n          clearInterval(timer);\n          console.log(\"Bokeh: ERROR: Unable to run BokehJS code because BokehJS library is missing\");\n        }\n      }\n    }, 10, root)\n  }\n})(window);",
      "application/vnd.bokehjs_exec.v0+json": ""
     },
     "metadata": {
      "application/vnd.bokehjs_exec.v0+json": {
       "id": "1372"
      }
     },
     "output_type": "display_data"
    }
   ],
   "source": [
    "from bokeh.plotting import figure, show\n",
    "# prepare some data\n",
    "x = list(total_by_yr['launched_at_yr']) #list of years\n",
    "y1 = list(total_by_yr['name']) #count(name/anything) for total by year \n",
    "y2 = list(failed_by_yr['name']) #count(name/anything) for failed by year \n",
    "y3 = list(successful_by_yr['name']) #count(name/anything) for successful by year \n",
    "\n",
    "# create a new plot with a title and axis labels\n",
    "p = figure(title=\"Total campaign vs Success/Failure rate\", x_axis_label=\"Year\", y_axis_label=\"Value\", plot_width = 600, plot_height = 400)\n",
    "\n",
    "# add multiple renderers\n",
    "p.line(x, y1, legend_label=\"Total.\", color=\"blue\", line_width=2)\n",
    "p.line(x, y2, legend_label=\"Failed\", color=\"red\", line_width=2)\n",
    "p.line(x, y3, legend_label=\"Successful\", color=\"green\", line_width=2)\n",
    "# show the results\n",
    "\n",
    "\n",
    "show(p)"
   ]
  },
  {
   "cell_type": "markdown",
   "metadata": {
    "pycharm": {
     "name": "#%% md\n"
    }
   },
   "source": [
    "### 4.3.1 Inference from Line Graph"
   ]
  },
  {
   "cell_type": "markdown",
   "metadata": {
    "pycharm": {
     "name": "#%% md\n"
    }
   },
   "source": [
    "- The graph shows the camparision between the Total campaigns, the total Failed and succesful campaign\n",
    "\n",
    "- From the graph we can infer that, there are more number of failed campaings than successful ones. \n",
    "\n",
    "- Most of the campaigns from this dataset is from the year 2013 to year 2018.\n"
   ]
  },
  {
   "cell_type": "markdown",
   "metadata": {
    "pycharm": {
     "name": "#%% md\n"
    }
   },
   "source": [
    "## 4.4 HEAT MAP"
   ]
  },
  {
   "cell_type": "code",
   "execution_count": 48,
   "metadata": {
    "pycharm": {
     "name": "#%%\n"
    },
    "scrolled": true
   },
   "outputs": [
    {
     "name": "stderr",
     "output_type": "stream",
     "text": [
      "/var/folders/jc/s8m7s_9n3q3fhyv_61mvy6zw0000gp/T/ipykernel_89158/3065999357.py:3: MatplotlibDeprecationWarning: You are modifying the state of a globally registered colormap. This has been deprecated since 3.3 and in 3.6, you will not be able to modify a registered colormap in-place. To remove this warning, you can make a copy of the colormap first. cmap = mpl.cm.get_cmap(\"RdYlGn\").copy()\n",
      "  color.set_bad('maroon')\n"
     ]
    },
    {
     "name": "stdout",
     "output_type": "stream",
     "text": [
      "HeatMap\n"
     ]
    },
    {
     "data": {
      "image/png": "[encoded data removed]",
      "text/plain": [
       "<Figure size 432x288 with 2 Axes>"
      ]
     },
     "metadata": {
      "needs_background": "light"
     },
     "output_type": "display_data"
    }
   ],
   "source": [
    "pivot_table= initdf.pivot_table(index=\"category\",columns=\"country\",values=\"backers_count\",aggfunc='mean')\n",
    "color = plt.get_cmap('RdYlGn') \n",
    "color.set_bad('maroon')\n",
    "sns.heatmap(pivot_table,cmap=color)\n",
    "plt.title('Average Number of backers across Countries per category')\n",
    "plt.xlabel('Country')\n",
    "plt.ylabel('Category')\n",
    "print(\"HeatMap\")"
   ]
  },
  {
   "cell_type": "markdown",
   "metadata": {
    "pycharm": {
     "name": "#%% md\n"
    }
   },
   "source": [
    "### 4.4.1 Inference from Heat Map"
   ]
  },
  {
   "cell_type": "markdown",
   "metadata": {
    "pycharm": {
     "name": "#%% md\n"
    }
   },
   "source": [
    "- The heat map shows that for certain categories like Gadgets, Hardware and Robots, there are a large number of backers in a single particular country such as China, Sweden and the Netherlands respectively for these categories. So launching these type of kickstarters in these countries will increase their success rate.\n",
    "\n",
    "- There are a lot of bad values being seen in the heat map marked which are marked in maroon, which indicates that a huge number of kickstarters launched have 0 backers which contributes to them failing.\n"
   ]
  },
  {
   "cell_type": "markdown",
   "metadata": {
    "pycharm": {
     "name": "#%% md\n"
    }
   },
   "source": [
    "## 4.5 HISTOGRAM"
   ]
  },
  {
   "cell_type": "code",
   "execution_count": 49,
   "metadata": {
    "pycharm": {
     "name": "#%%\n"
    }
   },
   "outputs": [
    {
     "data": {
      "text/plain": [
       "Text(0, 0.5, 'Number of Campaigns')"
      ]
     },
     "execution_count": 49,
     "metadata": {},
     "output_type": "execute_result"
    },
    {
     "data": {
      "image/png": "[encoded data removed]",
      "text/plain": [
       "<Figure size 432x288 with 1 Axes>"
      ]
     },
     "metadata": {
      "needs_background": "light"
     },
     "output_type": "display_data"
    }
   ],
   "source": [
    "sns.histplot(data=initdf,x=\"launched_at_month\",hue=\"state\",bins=12)\n",
    "plt.title('Number of campaigns launched in each month')\n",
    "plt.xlabel('Launch Month')\n",
    "plt.ylabel('Number of Campaigns')"
   ]
  },
  {
   "cell_type": "markdown",
   "metadata": {
    "pycharm": {
     "name": "#%% md\n"
    }
   },
   "source": [
    "### 4.5.1 Inference from Histogram"
   ]
  },
  {
   "cell_type": "markdown",
   "metadata": {
    "pycharm": {
     "name": "#%% md\n"
    }
   },
   "source": [
    "- We can infer from the histogram that, there is a high success rate for kickstarters launched from May to June. We can use this inference and increase the success rate of kickstartes by launching them in those particular months.\n",
    "\n",
    "\n",
    "- The failure rate seems to be high during December and January and it would be best to avoid those months for starting new projects."
   ]
  },
  {
   "cell_type": "markdown",
   "metadata": {
    "pycharm": {
     "name": "#%% md\n"
    }
   },
   "source": [
    "## 4.6 BOXPLOT"
   ]
  },
  {
   "cell_type": "code",
   "execution_count": 50,
   "metadata": {
    "pycharm": {
     "name": "#%%\n"
    }
   },
   "outputs": [
    {
     "name": "stderr",
     "output_type": "stream",
     "text": [
      "/opt/anaconda3/lib/python3.9/site-packages/seaborn/_decorators.py:36: FutureWarning: Pass the following variables as keyword args: x, y. From version 0.12, the only valid positional argument will be `data`, and passing other arguments without an explicit keyword will result in an error or misinterpretation.\n",
      "  warnings.warn(\n"
     ]
    },
    {
     "data": {
      "image/png": "[encoded data removed]",
      "text/plain": [
       "<Figure size 1080x432 with 1 Axes>"
      ]
     },
     "metadata": {},
     "output_type": "display_data"
    }
   ],
   "source": [
    "initdf['usd_goal'] = initdf['goal']*initdf['static_usd_rate'] # To convert currency of goal to US currency\n",
    "boxdf = initdf[['category','SuccessfulBool', 'state', 'launch_to_deadline_days']]\n",
    "boxdf.groupby(initdf.category).mean().reset_index()\n",
    "failed = boxdf[boxdf['SuccessfulBool']==0][['launch_to_deadline_days','category' ,'state']]\n",
    "success = boxdf[boxdf['SuccessfulBool']==1][['launch_to_deadline_days','category','state']]\n",
    "x = failed['launch_to_deadline_days']\n",
    "y = failed['category']\n",
    "sns.set(rc={'figure.figsize':(15,6)})\n",
    "sns.boxplot(x,y)\n",
    "plt.title('Duration of campaign for all categories')\n",
    "plt.xlabel('Length of campagin in days')\n",
    "plt.ylabel('Categories')\n",
    "plt.savefig('boxplot.png')"
   ]
  },
  {
   "cell_type": "markdown",
   "metadata": {
    "pycharm": {
     "name": "#%% md\n"
    }
   },
   "source": [
    "## 4.6.1 Inference from boxplot\n",
    "- It is recommended from the kickstarter webiste that for a campaign to have higher chances of success, its better to have the campaign duration of 30 days or less. \n",
    "- From the visualization, it can be infered that most of the failed projects are run for more than 40-60 days. \n",
    "- From the outliers, we can infer that most of the campaigns failed because their duration was too less to have enough time to gather enough funding or run for a long period 50 days and above."
   ]
  },
  {
   "cell_type": "markdown",
   "metadata": {
    "pycharm": {
     "name": "#%% md\n"
    }
   },
   "source": [
    "## 4.7 Scatter Plot"
   ]
  },
  {
   "cell_type": "code",
   "execution_count": 51,
   "metadata": {
    "pycharm": {
     "name": "#%%\n"
    }
   },
   "outputs": [
    {
     "name": "stderr",
     "output_type": "stream",
     "text": [
      "/opt/anaconda3/lib/python3.9/site-packages/seaborn/_decorators.py:36: FutureWarning: Pass the following variables as keyword args: x, y. From version 0.12, the only valid positional argument will be `data`, and passing other arguments without an explicit keyword will result in an error or misinterpretation.\n",
      "  warnings.warn(\n",
      "/opt/anaconda3/lib/python3.9/site-packages/seaborn/_decorators.py:36: FutureWarning: Pass the following variables as keyword args: x, y. From version 0.12, the only valid positional argument will be `data`, and passing other arguments without an explicit keyword will result in an error or misinterpretation.\n",
      "  warnings.warn(\n"
     ]
    },
    {
     "data": {
      "image/png": "[encoded data removed]",
      "text/plain": [
       "<Figure size 1080x432 with 1 Axes>"
      ]
     },
     "metadata": {},
     "output_type": "display_data"
    }
   ],
   "source": [
    "scatterdf = initdf[['usd_goal','category','usd_pledged','SuccessfulBool', 'state','backers_count']]\n",
    "# filtering the failed projects \n",
    "failed = scatterdf[scatterdf['SuccessfulBool']==0][['usd_goal','backers_count','category' ,'usd_pledged','state']]\n",
    "# filtering the successful projects\n",
    "success = scatterdf[scatterdf['SuccessfulBool']==1][['usd_goal','backers_count','category' ,'usd_pledged','state']]\n",
    "sns.set(font_scale=1.3)\n",
    "#Extracting average values for all categories\n",
    "avg1 = failed.groupby(initdf.category).mean().reset_index()\n",
    "avg2 = success.groupby(initdf.category).mean().reset_index()\n",
    "fig, ax = plt.subplots()\n",
    "sns.scatterplot(avg1['usd_goal'],avg1['category'], size = avg1['backers_count'], color='r', label='failed')\n",
    "sns.scatterplot(avg2['usd_goal'],avg2['category'], size = avg2['backers_count'], color='g', label='successful')\n",
    "ax.set_xlim(1, 150000)\n",
    "plt.title('Average project goal(Successful/Failed) per category')\n",
    "plt.xlabel('Average goal in USD')\n",
    "plt.ylabel('Categories')\n",
    "plt.savefig('scatterplot.png')\n",
    "plt.show()"
   ]
  },
  {
   "cell_type": "markdown",
   "metadata": {
    "pycharm": {
     "name": "#%% md\n"
    }
   },
   "source": [
    "## 4.7.1 Inference from Scatter Plot\n",
    "- Across all categories, the campaigns are most likely to be successful if their funding goal is below 20,000 dollars.\n",
    "- The median goal amount of successful projects is 6,000 dollars while failed projects is 1,15,171 dollars which is more than double the successful projects. \n",
    "- This suggests that projects with a conservative goal are more likely to attract backers.\n",
    "- We can also see that failed projects across all categories have higher funding goals than successful ones. \n",
    "- It can be infered that Gadgets, Hardware and wearables attract more backers."
   ]
  },
  {
   "cell_type": "markdown",
   "metadata": {
    "pycharm": {
     "name": "#%% md\n"
    }
   },
   "source": [
    "##  5. Conclusion\n"
   ]
  },
  {
   "cell_type": "markdown",
   "metadata": {
    "pycharm": {
     "name": "#%% md\n"
    }
   },
   "source": [
    "### 5.1 Insights from the visualizations\n",
    "Kickstarter data has a lot of valuable insights to offer. Findings from our analysis:\n",
    "\n",
    "- The average success ratio of campaign on KickStarter is about 29% from 2008-2017.\n",
    "- Top 5 successful categories are Web, Hardware, Software, Gadgets and Uncategorized. \n",
    "- For hardware, kickstarter is found to be most popular in countries like China, Sweden and Netherlands as these countries have more average number of backers.\n",
    "- The median goal amount for a successful project is found to be USD 6,000.\n",
    "- Success ratio of campaigns was on a increasing trend from 2013 to 2015. Post 2015 there is a gradual downfall in the success ratio of the campaigns.\n",
    "- Success rate is found to be higher in the period of May to June. \n",
    "- The failure rate seems to be high during December and January.\n",
    "- Any kickstarter which is run for a duration longer than 30 days is mostly likely to fail across all categories."
   ]
  },
  {
   "cell_type": "markdown",
   "metadata": {
    "pycharm": {
     "name": "#%% md\n"
    }
   },
   "source": [
    "### 5.2 Reasons of Failure\n",
    "\n",
    "Crowdfunding has become increasing popular in the world as a form of alternative financing for new projects.\n",
    "1. Market research failure\n",
    "2. Product not been promising enough\n",
    "3. Running out of cash\n",
    "4. Over ambitious projects\n",
    "5. Business model failure\n",
    "6. Deadline extended forever"
   ]
  },
  {
   "cell_type": "markdown",
   "metadata": {
    "pycharm": {
     "name": "#%% md\n"
    }
   },
   "source": [
    "## 6. Scope for future analysis"
   ]
  },
  {
   "cell_type": "markdown",
   "metadata": {
    "pycharm": {
     "name": "#%% md\n"
    }
   },
   "source": [
    "### 6.1 Columns to be inserted for better visualizations\n",
    "1. Marketing Budget\n",
    "2. Backers Feedback\n",
    "3. Duration of time it was live"
   ]
  },
  {
   "cell_type": "markdown",
   "metadata": {
    "pycharm": {
     "name": "#%% md\n"
    }
   },
   "source": [
    "### 6.2 Insights on future analysis\n",
    "\n",
    "1. Market Research: Good market research plays a crucial role in the Success or Failure of any Kickstarter. \n",
    "2. Branding of the Campaign: Often developers focus too much on creating a product they often spend less time on branding their product. The title is too lame, the blurb doesn't provide a detailed insight on what the campaign is about. \n",
    "3. Marketing the Product: Marketing does look like an additional cost to many developers and hence they overlook it, but it should rather be considered as a RETURN OF INVESTMENT. Since the kickstarter is dependent on the community to fund their project even before it has been finished, it is important to market it smartly, so that it reaches maximum audience and attracts potential backers.\n",
    "4. Realistic Goals: Often with lack of market research and product knowledge, developers set goals which are too high to reach and hence the kickstarter often turns into a failure. \n",
    "5. Unprofessionalism: A biggest mistake amongst most of the kickstarter is not updating backers on the progress of the project. Not being in touch too often. And not completing within a deadline. \n",
    "6. Consumer Analysis: Having a sheer knowledge on which market has what percentage of consumers is crucial. Laying out surveys and collecting statistics on what a consumer wants will always give better results and kickstarters should consider that. \n",
    "7. Right Timing: Timing is everything, be it for asking for funding, launching a product or marketing it. One should know the best time as per the market for every scenario.\n",
    "8. Test\n",
    "9. Adding updates"
   ]
  },
  {
   "cell_type": "code",
   "execution_count": null,
   "metadata": {
    "pycharm": {
     "name": "#%%\n"
    }
   },
   "outputs": [],
   "source": []
  }
 ],
 "metadata": {
  "kernelspec": {
   "display_name": "Python 3 (ipykernel)",
   "language": "python",
   "name": "python3"
  },
  "language_info": {
   "codemirror_mode": {
    "name": "ipython",
    "version": 3
   },
   "file_extension": ".py",
   "mimetype": "text/x-python",
   "name": "python",
   "nbconvert_exporter": "python",
   "pygments_lexer": "ipython3",
   "version": "3.9.12"
  }
 },
 "nbformat": 4,
 "nbformat_minor": 4
}
